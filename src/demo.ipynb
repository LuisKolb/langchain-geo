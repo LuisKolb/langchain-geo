{
 "cells": [
  {
   "attachments": {},
   "cell_type": "markdown",
   "metadata": {},
   "source": [
    "# demo notebook"
   ]
  },
  {
   "attachments": {},
   "cell_type": "markdown",
   "metadata": {},
   "source": [
    "## setup"
   ]
  },
  {
   "attachments": {},
   "cell_type": "markdown",
   "metadata": {},
   "source": [
    "### imports"
   ]
  },
  {
   "cell_type": "code",
   "execution_count": 1,
   "metadata": {},
   "outputs": [],
   "source": [
    "from dotenv import load_dotenv\n",
    "from langchain.llms import OpenAI\n",
    "\n",
    "import os\n"
   ]
  },
  {
   "attachments": {},
   "cell_type": "markdown",
   "metadata": {},
   "source": [
    "### api keys"
   ]
  },
  {
   "cell_type": "code",
   "execution_count": 2,
   "metadata": {},
   "outputs": [
    {
     "data": {
      "text/plain": [
       "True"
      ]
     },
     "execution_count": 2,
     "metadata": {},
     "output_type": "execute_result"
    }
   ],
   "source": [
    "load_dotenv()\n",
    "#os.environ[\"OPENAI_API_KEY\"]"
   ]
  },
  {
   "attachments": {},
   "cell_type": "markdown",
   "metadata": {},
   "source": [
    "## chain demo"
   ]
  },
  {
   "cell_type": "code",
   "execution_count": 3,
   "metadata": {},
   "outputs": [
    {
     "data": {
      "text/plain": [
       "'\\n\\nBrightSteps Socks.'"
      ]
     },
     "execution_count": 3,
     "metadata": {},
     "output_type": "execute_result"
    }
   ],
   "source": [
    "from langchain.prompts import PromptTemplate\n",
    "from langchain.llms import OpenAI\n",
    "\n",
    "llm = OpenAI(temperature=0.9)\n",
    "prompt = PromptTemplate(\n",
    "    input_variables=[\"product\"],\n",
    "    template=\"What is a good name for a company that makes {product}?\",\n",
    ")\n",
    "\n",
    "from langchain.chains import LLMChain\n",
    "chain = LLMChain(llm=llm, prompt=prompt)\n",
    "\n",
    "chain.run(\"colorful socks\")"
   ]
  },
  {
   "attachments": {},
   "cell_type": "markdown",
   "metadata": {},
   "source": [
    "## chromaDB vectorstore demo"
   ]
  },
  {
   "cell_type": "code",
   "execution_count": 4,
   "metadata": {},
   "outputs": [],
   "source": [
    "%%capture\n",
    "%pip install chromadb tiktoken"
   ]
  },
  {
   "cell_type": "code",
   "execution_count": 5,
   "metadata": {},
   "outputs": [
    {
     "name": "stderr",
     "output_type": "stream",
     "text": [
      "Using embedded DuckDB without persistence: data will be transient\n"
     ]
    },
    {
     "data": {
      "text/plain": [
       "{'question': 'What did the president say about Ketanji Brown Jackson',\n",
       " 'answer': \" The president said that he nominated Circuit Court of Appeals Judge Ketanji Brown Jackson, one of the nation's top legal minds, to continue Justice Breyer's legacy of excellence. He also mentioned that she has received a broad range of support from the Fraternal Order of Police to former judges appointed by Democrats and Republicans.\\n\",\n",
       " 'sources': './data/demo/state_of_the_union.txt'}"
      ]
     },
     "execution_count": 5,
     "metadata": {},
     "output_type": "execute_result"
    }
   ],
   "source": [
    "from langchain.chains import RetrievalQA\n",
    "from langchain.llms import OpenAI\n",
    "\n",
    "from langchain.document_loaders import TextLoader\n",
    "loader = TextLoader('./data/demo/state_of_the_union.txt', encoding='utf8')\n",
    "\n",
    "from langchain.indexes import VectorstoreIndexCreator\n",
    "index = VectorstoreIndexCreator().from_loaders([loader])\n",
    "\n",
    "query = \"What did the president say about Ketanji Brown Jackson\"\n",
    "index.query_with_sources(query)"
   ]
  },
  {
   "attachments": {},
   "cell_type": "markdown",
   "metadata": {},
   "source": [
    "### chromaDB vectorstore demo step-by-step"
   ]
  },
  {
   "cell_type": "code",
   "execution_count": 6,
   "metadata": {},
   "outputs": [
    {
     "name": "stderr",
     "output_type": "stream",
     "text": [
      "Using embedded DuckDB without persistence: data will be transient\n"
     ]
    },
    {
     "data": {
      "text/plain": [
       "\" I don't know.\""
      ]
     },
     "execution_count": 6,
     "metadata": {},
     "output_type": "execute_result"
    }
   ],
   "source": [
    "from langchain.document_loaders import TextLoader\n",
    "loader = TextLoader('./data/demo/state_of_the_union.txt', encoding='utf8')\n",
    "\n",
    "documents = loader.load()\n",
    "\n",
    "from langchain.text_splitter import CharacterTextSplitter\n",
    "text_splitter = CharacterTextSplitter(chunk_size=1000, chunk_overlap=0)\n",
    "texts = text_splitter.split_documents(documents)\n",
    "\n",
    "from langchain.embeddings import OpenAIEmbeddings\n",
    "embeddings = OpenAIEmbeddings()\n",
    "\n",
    "from langchain.vectorstores import Chroma\n",
    "db = Chroma.from_documents(texts, embeddings)\n",
    "\n",
    "retriever = db.as_retriever()\n",
    "\n",
    "qa = RetrievalQA.from_chain_type(llm=OpenAI(), chain_type=\"stuff\", retriever=retriever)\n",
    "\n",
    "query = \"what are some rocks you know?\"\n",
    "qa.run(query)"
   ]
  },
  {
   "attachments": {},
   "cell_type": "markdown",
   "metadata": {},
   "source": [
    "## urls to vectorstore demo"
   ]
  },
  {
   "cell_type": "code",
   "execution_count": 7,
   "metadata": {},
   "outputs": [],
   "source": [
    "urls = [\n",
    "    \"https://thesaurus.geolba.ac.at/?uri=http://resource.geolba.ac.at/minres/28&lang=de\",\n",
    "    \"https://thesaurus.geolba.ac.at/?uri=http://resource.geolba.ac.at/minres/83&lang=de\",\n",
    "    \"https://thesaurus.geolba.ac.at/?uri=http://resource.geolba.ac.at/minres/78&lang=de\"\n",
    "]"
   ]
  },
  {
   "attachments": {},
   "cell_type": "markdown",
   "metadata": {},
   "source": [
    "### selenium\n",
    "\n",
    "requires (headless) webdrivers to be installed for chrome or firefox"
   ]
  },
  {
   "cell_type": "code",
   "execution_count": 8,
   "metadata": {},
   "outputs": [],
   "source": [
    "%%capture\n",
    "%pip install unstructured tabulate pdf2image pytesseract selenium"
   ]
  },
  {
   "cell_type": "code",
   "execution_count": 14,
   "metadata": {},
   "outputs": [
    {
     "data": {
      "text/plain": [
       "[Document(page_content='Home\\n                            (current)\\n\\nTutorial\\n\\nAbout\\n\\nFeedback\\n\\nDE\\n                        \\n                            Deutsch\\n                            English\\n\\nAlunit\\n\\nURI: \\n                                    http://resource.geolba.ac.at/minres/28\\n                                        \\xa0\\xa0\\xa0⇒\\n                                     RDF download\\n\\nAlunit  de\\n\\nAlunite  en\\n\\nNotation:\\n\\nAln\\n\\nVor allem im Verwitterungsbereich von Braunkohlenvorkommen aus den begleitenden Sulfidkomponenten (Pyrit) hervorgegangenes sulfatisches Mineral, welches insbesondere in der Vergangenheit lokal auch zur Gewinnung von „Alaun“ herangezogen wurde. Ein Gewinnungsort war der Tiefbau Eglsee bei Krems . Alunit wird der Gruppe der Industrieminerale zugeordnet. (Weber & Weiss, 1983)\\n\\n[PDF]\\xa0-\\n\\n[Catalog]\\n\\nVerwandte Begriffe, Relationen\\n\\nbroader\\n\\nIndustrieminerale\\n\\nexactMatch\\n\\nCommodityCodeValue/alunite (INSPIRE)\\n\\nskos:prefLabel\\n\\nAlunit  deAlunite  en\\n\\nskos:definition\\n\\nVor allem im Verwitterungsbereich von Braunkohlenvorkommen aus den begleitenden Sulfidkomponenten (Pyrit) hervorgegangenes sulfatisches Mineral, welches insbesondere in der Vergangenheit lokal auch zur Gewinnung von „Alaun“ herangezogen wurde. Ein Gewinnungsort war der Tiefbau Eglsee bei Krems . Alunit wird der Gruppe der Industrieminerale zugeordnet. (Weber & Weiss, 1983)  deThis sulfate mineral occurs especially around the erosion area of brown coal deposits, where it can form out of the accompanying sulfide component (Pyrite). In the past it has locally been used to extract “Alum”. A place of extraction was the mine Eglsee by Krems. Alunite is categorized under the group of industrial minerals. (Weber & Weiss, 1983)  en\\n\\nskos:broader\\n\\nIndustrieminerale\\n\\nskos:exactMatch\\n\\nhttp://inspire.ec.europa.eu/codelist/CommodityCodeValue/alunite\\n\\ndcterms:creator\\n\\nhttp://resource.geolba.ac.at/user/lippio\\n\\ndcterms:created\\n\\n2018-11-20T08:04:40.000Z xsd:dateTime\\n\\ndcterms:modified\\n\\n2018-12-07T09:14:03.000Z xsd:dateTime\\n\\ndcterms:contributor\\n\\nhttp://resource.geolba.ac.at/user/schmar\\n\\n\\n\\n\\n\\nMineralische Rohstoffe (1 .. 50)\\n\\nAlunit,\\n\\nAnhydrit,\\n\\nAnthrazit,\\n\\nAntimon,\\n\\nAntimon,\\n\\nArsen,\\n\\nAsbest,\\n\\nBaryt,\\n\\nBauxit,\\n\\nBentonit,\\n\\nBeryllium,\\n\\nBismut,\\n\\nBlei,\\n\\nBlei,\\n\\nBraunkohle,\\n\\nBrecherprodukte aus Basalt, Diabas,\\n\\nBrecherprodukte aus Kalkstein, Dolomit,\\n\\nBrecherprodukte aus Sandstein, Quarzit,\\n\\nBrecherprodukte im allgemeinen,\\n\\nBuntmetalle (⇒ top concept),\\n\\nChrom,\\n\\nDekorsteine (außer Granit, Gabbro),\\n\\nDiatomit,\\n\\nDisthen,\\n\\nDolomit,\\n\\nEdelmetalle (⇒ top concept),\\n\\nEisen,\\n\\nEisen und Stahlveredler (⇒ top concept),\\n\\nEisenkarbonate,\\n\\nEnergierohstoffe (⇒ top concept),\\n\\nEnergierohstoffe - Erdöl und Erdgas,\\n\\nEnergierohstoffe-Braunkohle,\\n\\nEnergierohstoffe-Steinkohle,\\n\\nErdgas,\\n\\nErdöl,\\n\\nFarberden,\\n\\nFeldspat,\\n\\nFeuerfeste Tone,\\n\\nFluorit,\\n\\nGabbro, Dolerit (Dekorsteine),\\n\\nGagat,\\n\\nGangquarz,\\n\\nGips,\\n\\nGlanzbraunkohle,\\n\\nGlimmer,\\n\\nGold,\\n\\nGrafit,\\n\\nGranit, Syenit u.s.w. (Dekorsteine),\\n\\nHämatit,\\n\\nIndustrieminerale (⇒ top concept) ...\\n\\nGo!\\n\\nAnwendungen\\n\\nNetworkdiagram\\n\\nDatabasequeries\\n\\nRohstoffgeologie (Thema)\\n\\nDas Vokabular zum Thema \"Rohstoffgeologie\" umfasst Begriffe mit Bezug zur geologischen Erforschung der Vorkommen und Lagerstätten mineralischer Rohstoffe in Österreich und wird zur Beschreibung bzw. Indizierung von Datensätzen verwendet. Die vorliegenden Begriffe wurden überwiegend für das Projekt Min4EU zusammengestellt, im Interaktiven Rohstoff-Informations-System (IRIS) verwendet und enthalten jeweils auch einen Bezug zu den betreffenden INSPIRE Auswahllisten. Die Beiträge zu den einzelnen Rohstoffvorkommen bzw. die Beschreibung der minerogenetischen Bezirke erfolgen in enger Zusammenarbeit mit den Mitgliedern des Fachausschusses für Lagerstättenforschung des Bergmännischen Verband Österreichs.\\n\\nGeoSphere Austria |\\n\\nNutzungsbedingungen |\\n\\nKontakt |\\n\\nHaftungsausschluss |\\n\\nWCAG 2-AA |\\n\\nFAQ |', metadata={'source': 'https://thesaurus.geolba.ac.at/?uri=http://resource.geolba.ac.at/minres/28&lang=de'}),\n",
       " Document(page_content='Home\\n                            (current)\\n\\nTutorial\\n\\nAbout\\n\\nFeedback\\n\\nDE\\n                        \\n                            Deutsch\\n                            English\\n\\nGo!\\n\\nAnwendungen\\n\\nNetworkdiagram\\n\\nRohstoffgeologie (Thema)\\n\\nDas Vokabular zum Thema \"Rohstoffgeologie\" umfasst Begriffe mit Bezug zur geologischen Erforschung der Vorkommen und Lagerstätten mineralischer Rohstoffe in Österreich und wird zur Beschreibung bzw. Indizierung von Datensätzen verwendet. Die vorliegenden Begriffe wurden überwiegend für das Projekt Min4EU zusammengestellt, im Interaktiven Rohstoff-Informations-System (IRIS) verwendet und enthalten jeweils auch einen Bezug zu den betreffenden INSPIRE Auswahllisten. Die Beiträge zu den einzelnen Rohstoffvorkommen bzw. die Beschreibung der minerogenetischen Bezirke erfolgen in enger Zusammenarbeit mit den Mitgliedern des Fachausschusses für Lagerstättenforschung des Bergmännischen Verband Österreichs.\\n\\nGeoSphere Austria |\\n\\nNutzungsbedingungen |\\n\\nKontakt |\\n\\nHaftungsausschluss |\\n\\nWCAG 2-AA |\\n\\nFAQ |', metadata={'source': 'https://thesaurus.geolba.ac.at/?uri=http://resource.geolba.ac.at/minres/83&lang=de'}),\n",
       " Document(page_content='Home\\n                            (current)\\n\\nTutorial\\n\\nAbout\\n\\nFeedback\\n\\nDE\\n                        \\n                            Deutsch\\n                            English\\n\\nGo!\\n\\nAnwendungen\\n\\nNetworkdiagram\\n\\nRohstoffgeologie (Thema)\\n\\nDas Vokabular zum Thema \"Rohstoffgeologie\" umfasst Begriffe mit Bezug zur geologischen Erforschung der Vorkommen und Lagerstätten mineralischer Rohstoffe in Österreich und wird zur Beschreibung bzw. Indizierung von Datensätzen verwendet. Die vorliegenden Begriffe wurden überwiegend für das Projekt Min4EU zusammengestellt, im Interaktiven Rohstoff-Informations-System (IRIS) verwendet und enthalten jeweils auch einen Bezug zu den betreffenden INSPIRE Auswahllisten. Die Beiträge zu den einzelnen Rohstoffvorkommen bzw. die Beschreibung der minerogenetischen Bezirke erfolgen in enger Zusammenarbeit mit den Mitgliedern des Fachausschusses für Lagerstättenforschung des Bergmännischen Verband Österreichs.\\n\\nGeoSphere Austria |\\n\\nNutzungsbedingungen |\\n\\nKontakt |\\n\\nHaftungsausschluss |\\n\\nWCAG 2-AA |\\n\\nFAQ |', metadata={'source': 'https://thesaurus.geolba.ac.at/?uri=http://resource.geolba.ac.at/minres/78&lang=de'})]"
      ]
     },
     "execution_count": 14,
     "metadata": {},
     "output_type": "execute_result"
    }
   ],
   "source": [
    "from langchain.document_loaders import SeleniumURLLoader\n",
    "\n",
    "loader = SeleniumURLLoader(urls=urls, browser='firefox')\n",
    "\n",
    "data = loader.load()\n",
    "\n",
    "data"
   ]
  },
  {
   "cell_type": "code",
   "execution_count": 15,
   "metadata": {},
   "outputs": [
    {
     "name": "stderr",
     "output_type": "stream",
     "text": [
      "Using embedded DuckDB without persistence: data will be transient\n"
     ]
    },
    {
     "data": {
      "text/plain": [
       "' Alunit, Anhydrit, Anthrazit, Antimon, Arsen, Asbest, Baryt, Bauxit, Bentonit, Beryllium, Bismut, Blei, Braunkohle, Brecherprodukte aus Basalt, Diabas, Brecherprodukte aus Kalkstein, Dolomit, Brecherprodukte aus Sandstein, Quarzit, Diatomit, Disthen, Dolomit, Feldspat, Feuerfeste Tone, Fluorit, Gabbro, Dolerit (Dekorsteine), Gagat, Gangquarz, Gips, Glanzbraunkohle, Glimmer, Granit, Syenit u.s.w. (Dekorsteine), Hämatit.'"
      ]
     },
     "execution_count": 15,
     "metadata": {},
     "output_type": "execute_result"
    }
   ],
   "source": [
    "from langchain.text_splitter import CharacterTextSplitter\n",
    "text_splitter = CharacterTextSplitter(chunk_size=1000, chunk_overlap=0)\n",
    "texts = text_splitter.split_documents(data)\n",
    "\n",
    "from langchain.embeddings import OpenAIEmbeddings\n",
    "embeddings = OpenAIEmbeddings()\n",
    "\n",
    "from langchain.vectorstores import Chroma\n",
    "db = Chroma.from_documents(texts, embeddings)\n",
    "\n",
    "retriever = db.as_retriever()\n",
    "\n",
    "qa = RetrievalQA.from_chain_type(llm=OpenAI(), chain_type=\"stuff\", retriever=retriever)\n",
    "\n",
    "query = \"what are some rocks you know?\"\n",
    "qa.run(query)"
   ]
  },
  {
   "attachments": {},
   "cell_type": "markdown",
   "metadata": {},
   "source": [
    "### playwright\n",
    "\n",
    "requires (headless) webdrivers to be installed for chrome or firefox; and another library to be installed (see output of bash command `playwright install`)"
   ]
  },
  {
   "cell_type": "code",
   "execution_count": 11,
   "metadata": {},
   "outputs": [],
   "source": [
    "%%capture\n",
    "%pip install unstructured tabulate pdf2image pytesseract playwright\n",
    "!playwright install"
   ]
  },
  {
   "attachments": {},
   "cell_type": "markdown",
   "metadata": {},
   "source": [
    "playwright requires async i/o, which we would need to custom-build, as jupyter notebooks run their own async loop - use a python file instead"
   ]
  },
  {
   "cell_type": "code",
   "execution_count": 12,
   "metadata": {},
   "outputs": [],
   "source": [
    "#from langchain.document_loaders import PlaywrightURLLoader\n",
    "#\n",
    "#urls = [\n",
    "#    \"https://thesaurus.geolba.ac.at/?uri=http://resource.geolba.ac.at/minres/28&lang=de\",\n",
    "#    \"https://thesaurus.geolba.ac.at/?uri=http://resource.geolba.ac.at/minres/83&lang=de\",\n",
    "#    \"https://thesaurus.geolba.ac.at/?uri=http://resource.geolba.ac.at/minres/78&lang=de\"\n",
    "#]\n",
    "#\n",
    "#loader = PlaywrightURLLoader(urls=urls, remove_selectors=[\"header\", \"footer\"], headless=True)\n",
    "#\n",
    "#data = loader.load()\n",
    "#\n",
    "#data"
   ]
  },
  {
   "cell_type": "code",
   "execution_count": 13,
   "metadata": {},
   "outputs": [
    {
     "name": "stdout",
     "output_type": "stream",
     "text": [
      "[Document(page_content='Alunit\\n\\nURI: \\n                                    http://resource.geolba.ac.at/minres/28\\n                                        \\xa0\\xa0\\xa0⇒\\n                                     RDF download\\n\\nAlunit  de\\n\\nAlunite  en\\n\\nNotation:\\n\\nAln\\n\\nVor allem im Verwitterungsbereich von Braunkohlenvorkommen aus den begleitenden Sulfidkomponenten (Pyrit) hervorgegangenes sulfatisches Mineral, welches insbesondere in der Vergangenheit lokal auch zur Gewinnung von „Alaun“ herangezogen wurde. Ein Gewinnungsort war der Tiefbau Eglsee bei Krems . Alunit wird der Gruppe der Industrieminerale zugeordnet. (Weber & Weiss, 1983)\\n\\nVerwandte Begriffe, Relationen\\n\\nbroader\\n\\nIndustrieminerale\\n\\nexactMatch\\n\\nCommodityCodeValue/alunite (INSPIRE)\\n\\nskos:prefLabel\\n\\nAlunit  deAlunite  en\\n\\nskos:definition\\n\\nVor allem im Verwitterungsbereich von Braunkohlenvorkommen aus den begleitenden Sulfidkomponenten (Pyrit) hervorgegangenes sulfatisches Mineral, welches insbesondere in der Vergangenheit lokal auch zur Gewinnung von „Alaun“ herangezogen wurde. Ein Gewinnungsort war der Tiefbau Eglsee bei Krems . Alunit wird der Gruppe der Industrieminerale zugeordnet. (Weber & Weiss, 1983)  deThis sulfate mineral occurs especially around the erosion area of brown coal deposits, where it can form out of the accompanying sulfide component (Pyrite). In the past it has locally been used to extract “Alum”. A place of extraction was the mine Eglsee by Krems. Alunite is categorized under the group of industrial minerals. (Weber & Weiss, 1983)  en\\n\\nskos:broader\\n\\nIndustrieminerale\\n\\nskos:exactMatch\\n\\nhttp://inspire.ec.europa.eu/codelist/CommodityCodeValue/alunite\\n\\ndcterms:creator\\n\\nhttp://resource.geolba.ac.at/user/lippio\\n\\ndcterms:created\\n\\n2018-11-20T08:04:40.000Z xsd:dateTime\\n\\ndcterms:modified\\n\\n2018-12-07T09:14:03.000Z xsd:dateTime\\n\\ndcterms:contributor\\n\\nhttp://resource.geolba.ac.at/user/schmar\\n\\n\\n\\n\\n\\nMineralische Rohstoffe (1 .. 50)\\n\\nAlunit,\\n\\nAnhydrit,\\n\\nAnthrazit,\\n\\nAntimon,\\n\\nAntimon,\\n\\nArsen,\\n\\nAsbest,\\n\\nBaryt,\\n\\nBauxit,\\n\\nBentonit,\\n\\nBeryllium,\\n\\nBismut,\\n\\nBlei,\\n\\nBlei,\\n\\nBraunkohle,\\n\\nBrecherprodukte aus Basalt, Diabas,\\n\\nBrecherprodukte aus Kalkstein, Dolomit,\\n\\nBrecherprodukte aus Sandstein, Quarzit,\\n\\nBrecherprodukte im allgemeinen,\\n\\nBuntmetalle (⇒ top concept),\\n\\nChrom,\\n\\nDekorsteine (außer Granit, Gabbro),\\n\\nDiatomit,\\n\\nDisthen,\\n\\nDolomit,\\n\\nEdelmetalle (⇒ top concept),\\n\\nEisen,\\n\\nEisen und Stahlveredler (⇒ top concept),\\n\\nEisenkarbonate,\\n\\nEnergierohstoffe (⇒ top concept),\\n\\nEnergierohstoffe - Erdöl und Erdgas,\\n\\nEnergierohstoffe-Braunkohle,\\n\\nEnergierohstoffe-Steinkohle,\\n\\nErdgas,\\n\\nErdöl,\\n\\nFarberden,\\n\\nFeldspat,\\n\\nFeuerfeste Tone,\\n\\nFluorit,\\n\\nGabbro, Dolerit (Dekorsteine),\\n\\nGagat,\\n\\nGangquarz,\\n\\nGips,\\n\\nGlanzbraunkohle,\\n\\nGlimmer,\\n\\nGold,\\n\\nGrafit,\\n\\nGranit, Syenit u.s.w. (Dekorsteine),\\n\\nHämatit,\\n\\nIndustrieminerale (⇒ top concept) ...\\n\\nRohstoffgeologie (Thema)\\n\\nDas Vokabular zum Thema \"Rohstoffgeologie\" umfasst Begriffe mit Bezug zur geologischen Erforschung der Vorkommen und Lagerstätten mineralischer Rohstoffe in Österreich und wird zur Beschreibung bzw. Indizierung von Datensätzen verwendet. Die vorliegenden Begriffe wurden überwiegend für das Projekt Min4EU zusammengestellt, im Interaktiven Rohstoff-Informations-System (IRIS) verwendet und enthalten jeweils auch einen Bezug zu den betreffenden INSPIRE Auswahllisten. Die Beiträge zu den einzelnen Rohstoffvorkommen bzw. die Beschreibung der minerogenetischen Bezirke erfolgen in enger Zusammenarbeit mit den Mitgliedern des Fachausschusses für Lagerstättenforschung des Bergmännischen Verband Österreichs.', metadata={'source': 'https://thesaurus.geolba.ac.at/?uri=http://resource.geolba.ac.at/minres/28&lang=de'}), Document(page_content='Anhydrit\\n\\nURI: \\n                                    http://resource.geolba.ac.at/minres/83\\n                                        \\xa0\\xa0\\xa0⇒\\n                                     RDF download\\n\\nAnhydrit  de\\n\\nAnhydrite  en\\n\\nNotation:\\n\\nAnh\\n\\nAls Anhydrit wird die wasserfreie Art des Calciumsulfates (CaSO4) verstanden. Durch Aufnahme von Wasser bildet sich Gips (CaSO4·2H2O). Anhydrit wird der Gruppe der Industrieminerale zugeordnet.Anhydrit ist ein wichtiger Rohstoff zur Herstellung von Fließestrich. Bei Wasseraufnahme kann Anhydrit sein Volumen um bis zu 60% vergrößern (Schwellen), weshalb Anhydritvorkommen oft baugeologische Schwierigkeiten nach sich ziehen.Anhydrit tritt mit Gips und anderen Evaporitgesteinen in verschiedenen metallogenetischen Bezirken im Subpenninikum, der Mittleren und oberen Penninischen Decken, im Unterostalpin, insbesondere aber im Oberostalpin der Nördlichen Kalkalpen auf. Evaporitbezirke finden sich auch im Drauzug Gurktal Deckensystem sowie im Silvretta-Seckau-Deckensystem. Als Evaporite sind Anhydrit und Gips wichtige Faziesindikatoren. (Weber, 1997; Weber, 2012)\\n\\n[Catalog]\\n\\nVerwandte Begriffe, Relationen\\n\\nbroader\\n\\nIndustrieminerale\\n\\nexactMatch\\n\\nCommodityCodeValue/anhydrite (INSPIRE)\\n\\nskos:prefLabel\\n\\nAnhydrit  deAnhydrite  en\\n\\nskos:definition\\n\\nAls Anhydrit wird die wasserfreie Art des Calciumsulfates (CaSO4) verstanden. Durch Aufnahme von Wasser bildet sich Gips (CaSO4·2H2O). Anhydrit wird der Gruppe der Industrieminerale zugeordnet.Anhydrit ist ein wichtiger Rohstoff zur Herstellung von Fließestrich. Bei Wasseraufnahme kann Anhydrit sein Volumen um bis zu 60% vergrößern (Schwellen), weshalb Anhydritvorkommen oft baugeologische Schwierigkeiten nach sich ziehen.Anhydrit tritt mit Gips und anderen Evaporitgesteinen in verschiedenen metallogenetischen Bezirken im Subpenninikum, der Mittleren und oberen Penninischen Decken, im Unterostalpin, insbesondere aber im Oberostalpin der Nördlichen Kalkalpen auf. Evaporitbezirke finden sich auch im Drauzug Gurktal Deckensystem sowie im Silvretta-Seckau-Deckensystem. Als Evaporite sind Anhydrit und Gips wichtige Faziesindikatoren. (Weber, 1997; Weber, 2012)  deAnhydrite is the anhydrous form of Calcium sulfate (CaSO4). Through the absorption of water, gypsum (CaSO4·2H2O) is formed. Anhydrite is categorized under the group of industrial minerals. Anhydrite is an important raw material for the production of floating screed. By absorbing water anhydrite can increase its volume by 60% (swelling), which is why anhydrite deposits often entail geological difficulties during construction.Anhydrite occurs with gypsum and other evaporite rocks in different metallogenetic districts in the Subpenninic, the Middle and Upper Penninic Nappes, the Lower Austroalpine, however particularly in the Upper Austroalpine of the Northern Calcareous Alps. Evaporite districts are also found in the Drauzug-Gurktal nappe system and in the Silvretta-Seackau nappe system. As evaporites, anhydrite and gypsum represent important facies indicators. (Weber, 1997; Weber, 2012)  en\\n\\nskos:broader\\n\\nIndustrieminerale\\n\\nskos:exactMatch\\n\\nhttp://inspire.ec.europa.eu/codelist/CommodityCodeValue/anhydrite\\n\\nskos:example\\n\\nEvaporitbezirk Semmering-Decke (Haidbachgraben)  deEvaporitbezirk Venediger-Deckensystem (Venn)  deEvaporitbezirk Mittlere Penninische Decken - (Zeblasjoch)  deEvaporitbezirk Karn Bajuvarisches Deckensystem (Montafon - Außerfern)  deEvaporitbezirk Untertrias Drauzug-Gurktal Deckensystem - Drauzugmesozoikum (Villacher Alpe)  deEvaporitbezirk Permoskyth Tirolisch-Norisches, Bajuvarisches und Juvavisches Deckensystem  deEvaporitbezirk Permoskyth Tirolisch- Bajuvarisches und Juvavisches Deckensystem Östliche Kalkalpen (Puchberg)  dePhosphat-Evaporitbezirk Tirolisch-Norisches Deckensystem (Sulzau-Werfen)  deEvaporitbezirk Karn Bajuvarisches Deckensystem - Opponitz-Formation (Gösting)  deEvaporitbezirk Matrei-Nordrahmen-Zone-Deckensystem (Ködnitz)  deEvaporitbezirk Oberperm Juvavisches Deckensystem - Salzkammergut (Alt-Aussee, Wienern)  deEvaporitbezirk Pirbachkogel-Decke (Stanz / Mürztal)  de\\n\\ndcterms:creator\\n\\nhttp://resource.geolba.ac.at/user/lippio\\n\\ndcterms:created\\n\\n2018-11-20T08:04:40.000Z xsd:dateTime\\n\\ndcterms:modified\\n\\n2021-03-13T19:21:31.620Z xsd:dateTime\\n\\ndcterms:contributor\\n\\nhttp://resource.geolba.ac.at/user/schmar\\n\\n\\n\\n\\n\\nMineralische Rohstoffe (1 .. 50)\\n\\nAlunit,\\n\\nAnhydrit,\\n\\nAnthrazit,\\n\\nAntimon,\\n\\nAntimon,\\n\\nArsen,\\n\\nAsbest,\\n\\nBaryt,\\n\\nBauxit,\\n\\nBentonit,\\n\\nBeryllium,\\n\\nBismut,\\n\\nBlei,\\n\\nBlei,\\n\\nBraunkohle,\\n\\nBrecherprodukte aus Basalt, Diabas,\\n\\nBrecherprodukte aus Kalkstein, Dolomit,\\n\\nBrecherprodukte aus Sandstein, Quarzit,\\n\\nBrecherprodukte im allgemeinen,\\n\\nBuntmetalle (⇒ top concept),\\n\\nChrom,\\n\\nDekorsteine (außer Granit, Gabbro),\\n\\nDiatomit,\\n\\nDisthen,\\n\\nDolomit,\\n\\nEdelmetalle (⇒ top concept),\\n\\nEisen,\\n\\nEisen und Stahlveredler (⇒ top concept),\\n\\nEisenkarbonate,\\n\\nEnergierohstoffe (⇒ top concept),\\n\\nEnergierohstoffe - Erdöl und Erdgas,\\n\\nEnergierohstoffe-Braunkohle,\\n\\nEnergierohstoffe-Steinkohle,\\n\\nErdgas,\\n\\nErdöl,\\n\\nFarberden,\\n\\nFeldspat,\\n\\nFeuerfeste Tone,\\n\\nFluorit,\\n\\nGabbro, Dolerit (Dekorsteine),\\n\\nGagat,\\n\\nGangquarz,\\n\\nGips,\\n\\nGlanzbraunkohle,\\n\\nGlimmer,\\n\\nGold,\\n\\nGrafit,\\n\\nGranit, Syenit u.s.w. (Dekorsteine),\\n\\nHämatit,\\n\\nIndustrieminerale (⇒ top concept) ...\\n\\nRohstoffgeologie (Thema)\\n\\nDas Vokabular zum Thema \"Rohstoffgeologie\" umfasst Begriffe mit Bezug zur geologischen Erforschung der Vorkommen und Lagerstätten mineralischer Rohstoffe in Österreich und wird zur Beschreibung bzw. Indizierung von Datensätzen verwendet. Die vorliegenden Begriffe wurden überwiegend für das Projekt Min4EU zusammengestellt, im Interaktiven Rohstoff-Informations-System (IRIS) verwendet und enthalten jeweils auch einen Bezug zu den betreffenden INSPIRE Auswahllisten. Die Beiträge zu den einzelnen Rohstoffvorkommen bzw. die Beschreibung der minerogenetischen Bezirke erfolgen in enger Zusammenarbeit mit den Mitgliedern des Fachausschusses für Lagerstättenforschung des Bergmännischen Verband Österreichs.', metadata={'source': 'https://thesaurus.geolba.ac.at/?uri=http://resource.geolba.ac.at/minres/83&lang=de'}), Document(page_content='Anthrazit\\n\\nURI: \\n                                    http://resource.geolba.ac.at/minres/78\\n                                        \\xa0\\xa0\\xa0⇒\\n                                     RDF download\\n\\nAnthracite  en\\n\\nAnthrazit  de\\n\\nNotation:\\n\\nAnth\\n\\nSteinkohle im höchsten Inkohlungsgrad (geringer Wassergehalt: <23%, C: >91,5 %,  H: <3,75 %, O: <2,5 %). Der Heizwert kann bis zu 35000 kJ/kg betragen. Unter Metamorphosebedingungen kann Anthrazit zu Grafit umgebildet werden (Metaanthrazit). Anthrazit wird der Gruppe der Energierohstoffe zugeordnet.Anthrazit dient hauptsächlich als Spezialheiz- und Reduktionsmittel sowie zur Gewinnung von Synthesegas und Elektroden. (Weber, 1997)\\n\\n[PDF]\\xa0-\\n\\n[Catalog]\\n\\nVerwandte Begriffe, Relationen\\n\\nbroader\\n\\nEnergierohstoffe-Steinkohle\\n\\nexactMatch\\n\\nCommodityCodeValue/anthracite (INSPIRE)\\n\\ncloseMatch\\n\\nQ182458 (WIKIDATA)\\n\\nskos:prefLabel\\n\\nAnthracite  enAnthrazit  de\\n\\nskos:definition\\n\\nHard coal in its highest degree of carbonization (low water content: <23%, C: >91,5%, H:<3,75%, O:<2,5%). The caloric value can reach up to 35.000 kJ/kg. During metamorphism anthracite can be transformed into graphite (meta-anthracite). Anthracite is categorized under the group of energy resources.Anthracite is manly used as special heating medium and reducing agent, as well as for extracting synthesis gas and electrodes. (Weber, 1997)  enSteinkohle im höchsten Inkohlungsgrad (geringer Wassergehalt: <23%, C: >91,5 %,  H: <3,75 %, O: <2,5 %). Der Heizwert kann bis zu 35000 kJ/kg betragen. Unter Metamorphosebedingungen kann Anthrazit zu Grafit umgebildet werden (Metaanthrazit). Anthrazit wird der Gruppe der Energierohstoffe zugeordnet.Anthrazit dient hauptsächlich als Spezialheiz- und Reduktionsmittel sowie zur Gewinnung von Synthesegas und Elektroden. (Weber, 1997)  de\\n\\nskos:broader\\n\\nEnergierohstoffe-Steinkohle\\n\\nskos:exactMatch\\n\\nhttp://inspire.ec.europa.eu/codelist/CommodityCodeValue/anthracite\\n\\nskos:closeMatch\\n\\nhttp://www.wikidata.org/entity/Q182458\\n\\nskos:example\\n\\nAnthrazitbezirk Stangnock Formation (Turrach)  deAnthrazitbezirk Steinach-Decke (Nösslacher Joch)  deAnthrazitbezirk Karnische Alpen -\\'Auernig-Gruppe\\' (Kronalm)  de\\n\\ndcterms:creator\\n\\nhttp://resource.geolba.ac.at/user/lippio\\n\\ndcterms:created\\n\\n2018-11-20T08:04:38.000Z xsd:dateTime\\n\\ndcterms:modified\\n\\n2020-07-28T13:18:58.669Z xsd:dateTime\\n\\ndcterms:contributor\\n\\nhttp://resource.geolba.ac.at/user/schmar\\n\\n\\n\\n\\n\\nMineralische Rohstoffe (1 .. 50)\\n\\nAlunit,\\n\\nAnhydrit,\\n\\nAnthrazit,\\n\\nAntimon,\\n\\nAntimon,\\n\\nArsen,\\n\\nAsbest,\\n\\nBaryt,\\n\\nBauxit,\\n\\nBentonit,\\n\\nBeryllium,\\n\\nBismut,\\n\\nBlei,\\n\\nBlei,\\n\\nBraunkohle,\\n\\nBrecherprodukte aus Basalt, Diabas,\\n\\nBrecherprodukte aus Kalkstein, Dolomit,\\n\\nBrecherprodukte aus Sandstein, Quarzit,\\n\\nBrecherprodukte im allgemeinen,\\n\\nBuntmetalle (⇒ top concept),\\n\\nChrom,\\n\\nDekorsteine (außer Granit, Gabbro),\\n\\nDiatomit,\\n\\nDisthen,\\n\\nDolomit,\\n\\nEdelmetalle (⇒ top concept),\\n\\nEisen,\\n\\nEisen und Stahlveredler (⇒ top concept),\\n\\nEisenkarbonate,\\n\\nEnergierohstoffe (⇒ top concept),\\n\\nEnergierohstoffe - Erdöl und Erdgas,\\n\\nEnergierohstoffe-Braunkohle,\\n\\nEnergierohstoffe-Steinkohle,\\n\\nErdgas,\\n\\nErdöl,\\n\\nFarberden,\\n\\nFeldspat,\\n\\nFeuerfeste Tone,\\n\\nFluorit,\\n\\nGabbro, Dolerit (Dekorsteine),\\n\\nGagat,\\n\\nGangquarz,\\n\\nGips,\\n\\nGlanzbraunkohle,\\n\\nGlimmer,\\n\\nGold,\\n\\nGrafit,\\n\\nGranit, Syenit u.s.w. (Dekorsteine),\\n\\nHämatit,\\n\\nIndustrieminerale (⇒ top concept) ...\\n\\nRohstoffgeologie (Thema)\\n\\nDas Vokabular zum Thema \"Rohstoffgeologie\" umfasst Begriffe mit Bezug zur geologischen Erforschung der Vorkommen und Lagerstätten mineralischer Rohstoffe in Österreich und wird zur Beschreibung bzw. Indizierung von Datensätzen verwendet. Die vorliegenden Begriffe wurden überwiegend für das Projekt Min4EU zusammengestellt, im Interaktiven Rohstoff-Informations-System (IRIS) verwendet und enthalten jeweils auch einen Bezug zu den betreffenden INSPIRE Auswahllisten. Die Beiträge zu den einzelnen Rohstoffvorkommen bzw. die Beschreibung der minerogenetischen Bezirke erfolgen in enger Zusammenarbeit mit den Mitgliedern des Fachausschusses für Lagerstättenforschung des Bergmännischen Verband Österreichs.', metadata={'source': 'https://thesaurus.geolba.ac.at/?uri=http://resource.geolba.ac.at/minres/78&lang=de'})]\n",
      "Created a chunk of size 1772, which is longer than the specified 1000\n",
      "Using embedded DuckDB without persistence: data will be transient\n",
      " Granit, Syenit, Gabbro, Dolerit, Feldspat, Gagat, Gangquarz, Gips, Glanzbraunkohle, Glimmer, and Hämatit.\n"
     ]
    }
   ],
   "source": [
    "!python demo.py"
   ]
  },
  {
   "cell_type": "code",
   "execution_count": null,
   "metadata": {},
   "outputs": [],
   "source": []
  }
 ],
 "metadata": {
  "kernelspec": {
   "display_name": "Python 3 (ipykernel)",
   "language": "python",
   "name": "python3"
  },
  "language_info": {
   "codemirror_mode": {
    "name": "ipython",
    "version": 3
   },
   "file_extension": ".py",
   "mimetype": "text/x-python",
   "name": "python",
   "nbconvert_exporter": "python",
   "pygments_lexer": "ipython3",
   "version": "3.8.10"
  },
  "orig_nbformat": 4,
  "vscode": {
   "interpreter": {
    "hash": "19e2a62444891d272399662276f40b848c908967e0a694cfe950ef1c03f97735"
   }
  }
 },
 "nbformat": 4,
 "nbformat_minor": 2
}
