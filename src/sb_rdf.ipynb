{
 "cells": [
  {
   "cell_type": "code",
   "execution_count": 1,
   "metadata": {},
   "outputs": [
    {
     "name": "stderr",
     "output_type": "stream",
     "text": [
      "268768it [00:00, 271287.81it/s]"
     ]
    },
    {
     "name": "stdout",
     "output_type": "stream",
     "text": [
      "268768\n",
      "268768\n"
     ]
    },
    {
     "name": "stderr",
     "output_type": "stream",
     "text": [
      "\n"
     ]
    }
   ],
   "source": [
    "from rdflib import Graph\n",
    "\n",
    "# Create a Graph\n",
    "g = Graph()\n",
    "\n",
    "source_file=\"data/rdf/conceptsAndRelations.ttl\"\n",
    "\n",
    "g.parse(source_file)\n",
    "from tqdm import tqdm\n",
    "l=[]\n",
    "for s in tqdm(g.triples((None, None, None))):\n",
    "    # print(s)\n",
    "    l+=[s]\n",
    "\n",
    "print(len(l))\n",
    "print(len(set(l)))"
   ]
  }
 ],
 "metadata": {
  "kernelspec": {
   "display_name": "venv",
   "language": "python",
   "name": "python3"
  },
  "language_info": {
   "codemirror_mode": {
    "name": "ipython",
    "version": 3
   },
   "file_extension": ".py",
   "mimetype": "text/x-python",
   "name": "python",
   "nbconvert_exporter": "python",
   "pygments_lexer": "ipython3",
   "version": "3.10.0"
  },
  "orig_nbformat": 4
 },
 "nbformat": 4,
 "nbformat_minor": 2
}
