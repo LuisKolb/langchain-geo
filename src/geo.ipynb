{
 "cells": [
  {
   "attachments": {},
   "cell_type": "markdown",
   "metadata": {},
   "source": [
    "# Geo QA"
   ]
  },
  {
   "cell_type": "code",
   "execution_count": 3,
   "metadata": {},
   "outputs": [],
   "source": [
    "import os\n",
    "import pandas as pd\n",
    "from dataclasses import dataclass\n",
    "from dotenv import load_dotenv\n",
    "\n",
    "from langchain.document_loaders.csv_loader import CSVLoader\n",
    "from langchain.vectorstores import Chroma\n",
    "from langchain.chains import RetrievalQA\n",
    "from langchain.llms import OpenAI\n",
    "from langchain.embeddings import OpenAIEmbeddings"
   ]
  },
  {
   "cell_type": "code",
   "execution_count": 4,
   "metadata": {},
   "outputs": [
    {
     "data": {
      "text/plain": [
       "True"
      ]
     },
     "execution_count": 4,
     "metadata": {},
     "output_type": "execute_result"
    }
   ],
   "source": [
    "load_dotenv()"
   ]
  },
  {
   "cell_type": "code",
   "execution_count": 16,
   "metadata": {},
   "outputs": [],
   "source": [
    "urls = [\n",
    "    \"https://thesaurus.geolba.ac.at/?uri=http://resource.geolba.ac.at/minres/28&lang=de\",\n",
    "    \"https://thesaurus.geolba.ac.at/?uri=http://resource.geolba.ac.at/minres/83&lang=de\",\n",
    "    \"https://thesaurus.geolba.ac.at/?uri=http://resource.geolba.ac.at/minres/78&lang=de\"\n",
    "]"
   ]
  },
  {
   "cell_type": "code",
   "execution_count": 20,
   "metadata": {},
   "outputs": [],
   "source": [
    "\"\"\"\n",
    "Overriding the load() function of SeleniumURLLoader\n",
    "\"\"\"\n",
    "from langchain.document_loaders import SeleniumURLLoader\n",
    "\n",
    "import logging\n",
    "logger = logging.getLogger(SeleniumURLLoader.__name__)\n",
    "\n",
    "from typing import TYPE_CHECKING, List, Literal, Optional, Union\n",
    "from langchain.docstore.document import Document\n",
    "\n",
    "from selenium.webdriver.common.by import By\n",
    "from selenium.webdriver.support.wait import WebDriverWait\n",
    "from selenium.webdriver.support import expected_conditions as EC\n",
    "\n",
    "class SeleniumURLLoaderCustom(SeleniumURLLoader):\n",
    "    def load(self) -> List[Document]:\n",
    "        \"\"\"Load the specified URLs using Selenium and create Document instances.\n",
    "\n",
    "        Returns:\n",
    "            List[Document]: A list of Document instances with loaded content.\n",
    "        \"\"\"\n",
    "        from unstructured.partition.html import partition_html\n",
    "\n",
    "        docs: List[Document] = list()\n",
    "        driver = self._get_driver()\n",
    "\n",
    "        for url in self.urls:\n",
    "            try:\n",
    "                driver.get(url)\n",
    "                element = WebDriverWait(driver, 10).until(\n",
    "                    EC.presence_of_element_located((By.CSS_SELECTOR, \".abstract\"))\n",
    "                    # EC.presence_of_all_elements_located((By.CSS_SELECTOR, \".abstract\"))\n",
    "                )\n",
    "                text = element.text\n",
    "                # elements = partition_html(text=page_content)\n",
    "                # text = \"\\n\\n\".join([str(el) for el in elements])\n",
    "                metadata = {\"source\": url}\n",
    "                docs.append(Document(page_content=text, metadata=metadata))\n",
    "            except Exception as e:\n",
    "                if self.continue_on_failure:\n",
    "                    logger.error(f\"Error fetching or processing {url}, exception: {e}\")\n",
    "                else:\n",
    "                    raise e\n",
    "\n",
    "        driver.quit()\n",
    "        return docs"
   ]
  },
  {
   "cell_type": "code",
   "execution_count": 21,
   "metadata": {},
   "outputs": [
    {
     "data": {
      "text/plain": [
       "[Document(page_content='Vor allem im Verwitterungsbereich von Braunkohlenvorkommen aus den begleitenden Sulfidkomponenten (Pyrit) hervorgegangenes sulfatisches Mineral, welches insbesondere in der Vergangenheit lokal auch zur Gewinnung von „Alaun“ herangezogen wurde. Ein Gewinnungsort war der Tiefbau Eglsee bei Krems . Alunit wird der Gruppe der Industrieminerale zugeordnet. (Weber & Weiss, 1983)', metadata={'source': 'https://thesaurus.geolba.ac.at/?uri=http://resource.geolba.ac.at/minres/28&lang=de'}),\n",
       " Document(page_content='Als Anhydrit wird die wasserfreie Art des Calciumsulfates (CaSO4) verstanden. Durch Aufnahme von Wasser bildet sich Gips (CaSO4·2H2O). Anhydrit wird der Gruppe der Industrieminerale zugeordnet.Anhydrit ist ein wichtiger Rohstoff zur Herstellung von Fließestrich. Bei Wasseraufnahme kann Anhydrit sein Volumen um bis zu 60% vergrößern (Schwellen), weshalb Anhydritvorkommen oft baugeologische Schwierigkeiten nach sich ziehen.Anhydrit tritt mit Gips und anderen Evaporitgesteinen in verschiedenen metallogenetischen Bezirken im Subpenninikum, der Mittleren und oberen Penninischen Decken, im Unterostalpin, insbesondere aber im Oberostalpin der Nördlichen Kalkalpen auf. Evaporitbezirke finden sich auch im Drauzug Gurktal Deckensystem sowie im Silvretta-Seckau-Deckensystem. Als Evaporite sind Anhydrit und Gips wichtige Faziesindikatoren. (Weber, 1997; Weber, 2012)', metadata={'source': 'https://thesaurus.geolba.ac.at/?uri=http://resource.geolba.ac.at/minres/83&lang=de'}),\n",
       " Document(page_content='Steinkohle im höchsten Inkohlungsgrad (geringer Wassergehalt: <23%, C: >91,5 %, H: <3,75 %, O: <2,5 %). Der Heizwert kann bis zu 35000 kJ/kg betragen. Unter Metamorphosebedingungen kann Anthrazit zu Grafit umgebildet werden (Metaanthrazit). Anthrazit wird der Gruppe der Energierohstoffe zugeordnet.Anthrazit dient hauptsächlich als Spezialheiz- und Reduktionsmittel sowie zur Gewinnung von Synthesegas und Elektroden. (Weber, 1997)', metadata={'source': 'https://thesaurus.geolba.ac.at/?uri=http://resource.geolba.ac.at/minres/78&lang=de'})]"
      ]
     },
     "execution_count": 21,
     "metadata": {},
     "output_type": "execute_result"
    }
   ],
   "source": [
    "loader = SeleniumURLLoaderCustom(urls=urls, browser='firefox')\n",
    "\n",
    "docs = loader.load()\n",
    "docs"
   ]
  },
  {
   "cell_type": "code",
   "execution_count": 22,
   "metadata": {},
   "outputs": [],
   "source": [
    "embedding = OpenAIEmbeddings()"
   ]
  },
  {
   "cell_type": "code",
   "execution_count": 23,
   "metadata": {},
   "outputs": [],
   "source": [
    "# we already have a persisted DB dir, only need to recompute this on document structure changes \n",
    "persist_directory = \"chroma/openai-emb\"\n",
    "vectordb = Chroma.from_documents(documents=docs, embedding=embedding, persist_directory=persist_directory)\n",
    "vectordb.persist()\n",
    "vectordb = None"
   ]
  },
  {
   "cell_type": "code",
   "execution_count": 27,
   "metadata": {},
   "outputs": [],
   "source": [
    "persist_directory = \"chroma/openai-emb\" # we can load the persisted database from disk, and use it as normal\n",
    "\n",
    "\n",
    "vectordb = Chroma(persist_directory=persist_directory, embedding_function=embedding)\n",
    "\n",
    "retriever = vectordb.as_retriever(search_kwargs={\"k\": 8})\n",
    "\n",
    "llm = OpenAI(model_name=\"text-davinci-003\", \n",
    "             temperature=0.9, \n",
    "             max_tokens=1000)\n",
    "\n",
    "qa = RetrievalQA.from_chain_type(llm=llm,\n",
    "                                 chain_type=\"stuff\", \n",
    "                                 retriever=retriever,\n",
    "                                 verbose=True)"
   ]
  },
  {
   "cell_type": "code",
   "execution_count": 28,
   "metadata": {},
   "outputs": [
    {
     "name": "stdout",
     "output_type": "stream",
     "text": [
      "\n",
      "\n",
      "\u001b[1m> Entering new  chain...\u001b[0m\n"
     ]
    },
    {
     "name": "stderr",
     "output_type": "stream",
     "text": [
      "Number of requested results 8 is greater than number of elements in index 3, updating n_results = 3\n"
     ]
    },
    {
     "name": "stdout",
     "output_type": "stream",
     "text": [
      "\n",
      "\u001b[1m> Finished chain.\u001b[0m\n"
     ]
    },
    {
     "data": {
      "text/plain": [
       "' Hallo! Wie kann ich Ihnen helfen?'"
      ]
     },
     "execution_count": 28,
     "metadata": {},
     "output_type": "execute_result"
    }
   ],
   "source": [
    "prompt = 'Hallo!'\n",
    "\n",
    "qa.run(prompt)"
   ]
  },
  {
   "cell_type": "code",
   "execution_count": null,
   "metadata": {},
   "outputs": [],
   "source": []
  }
 ],
 "metadata": {
  "kernelspec": {
   "display_name": "venv",
   "language": "python",
   "name": "python3"
  },
  "language_info": {
   "codemirror_mode": {
    "name": "ipython",
    "version": 3
   },
   "file_extension": ".py",
   "mimetype": "text/x-python",
   "name": "python",
   "nbconvert_exporter": "python",
   "pygments_lexer": "ipython3",
   "version": "3.8.10"
  },
  "orig_nbformat": 4
 },
 "nbformat": 4,
 "nbformat_minor": 2
}
