{
 "cells": [
  {
   "cell_type": "markdown",
   "metadata": {},
   "source": [
    "agent using retriever"
   ]
  },
  {
   "cell_type": "code",
   "execution_count": 1,
   "metadata": {},
   "outputs": [],
   "source": [
    "import os\n",
    "import pandas as pd\n",
    "from dataclasses import dataclass\n",
    "from dotenv import load_dotenv\n",
    "from tqdm import tqdm\n",
    "\n",
    "from langchain.document_loaders.csv_loader import CSVLoader\n",
    "from langchain.vectorstores import Chroma\n",
    "from langchain.chains import RetrievalQA\n",
    "from langchain.llms import OpenAI\n",
    "from langchain.embeddings import OpenAIEmbeddings"
   ]
  },
  {
   "cell_type": "code",
   "execution_count": 2,
   "metadata": {},
   "outputs": [],
   "source": [
    "load_dotenv()\n",
    "embedding = OpenAIEmbeddings()\n",
    "import chromadb\n",
    "chroma_client = chromadb.HttpClient(host=\"localhost\", port=\"8000\")\n",
    "\n",
    "chromadb.__version__\n",
    "from langchain.vectorstores import Chroma\n",
    "\n",
    "collection_name = \"geo_test\"\n",
    "\n",
    "lc_client = Chroma(client=chroma_client,\n",
    "                   collection_name=collection_name,\n",
    "                   embedding_function=embedding)"
   ]
  },
  {
   "cell_type": "markdown",
   "metadata": {},
   "source": [
    "create the retriever"
   ]
  },
  {
   "cell_type": "code",
   "execution_count": 3,
   "metadata": {},
   "outputs": [],
   "source": [
    "from langchain.agents.agent_toolkits import create_retriever_tool\n",
    "\n",
    "retriever = lc_client.as_retriever(search_kwargs={\"k\": 8})\n",
    "\n",
    "tool = create_retriever_tool(\n",
    "    retriever, \n",
    "    \"search_geologic_data\",\n",
    "    \"Searches and returns documents regarding geological features and entities.\"\n",
    ")\n",
    "tools = [tool]"
   ]
  },
  {
   "cell_type": "markdown",
   "metadata": {},
   "source": [
    "prebuilt components:"
   ]
  },
  {
   "cell_type": "code",
   "execution_count": 4,
   "metadata": {},
   "outputs": [
    {
     "name": "stdout",
     "output_type": "stream",
     "text": [
      "\n",
      "\n",
      "\u001b[1m> Entering new AgentExecutor chain...\u001b[0m\n",
      "\u001b[32;1m\u001b[1;3mHello Bob! How can I assist you today?\u001b[0m\n",
      "\n",
      "\u001b[1m> Finished chain.\u001b[0m\n"
     ]
    },
    {
     "data": {
      "text/plain": [
       "{'input': 'hi, im bob',\n",
       " 'chat_history': [HumanMessage(content='hi, im bob', additional_kwargs={}, example=False),\n",
       "  AIMessage(content='Hello Bob! How can I assist you today?', additional_kwargs={}, example=False)],\n",
       " 'output': 'Hello Bob! How can I assist you today?',\n",
       " 'intermediate_steps': []}"
      ]
     },
     "execution_count": 4,
     "metadata": {},
     "output_type": "execute_result"
    }
   ],
   "source": [
    "from langchain.agents.agent_toolkits import create_conversational_retrieval_agent\n",
    "\n",
    "\n",
    "from langchain.chat_models import ChatOpenAI\n",
    "llm = ChatOpenAI(temperature = 0)\n",
    "\n",
    "agent_executor = create_conversational_retrieval_agent(llm, tools, verbose=True)\n",
    "result = agent_executor({\"input\": \"hi, im bob\"})\n",
    "result"
   ]
  },
  {
   "cell_type": "code",
   "execution_count": 5,
   "metadata": {},
   "outputs": [
    {
     "name": "stdout",
     "output_type": "stream",
     "text": [
      "\n",
      "\n",
      "\u001b[1m> Entering new AgentExecutor chain...\u001b[0m\n",
      "\u001b[32;1m\u001b[1;3mYour name is Bob.\u001b[0m\n",
      "\n",
      "\u001b[1m> Finished chain.\u001b[0m\n"
     ]
    },
    {
     "data": {
      "text/plain": [
       "{'input': 'whats my name',\n",
       " 'chat_history': [HumanMessage(content='hi, im bob', additional_kwargs={}, example=False),\n",
       "  AIMessage(content='Hello Bob! How can I assist you today?', additional_kwargs={}, example=False),\n",
       "  HumanMessage(content='whats my name', additional_kwargs={}, example=False),\n",
       "  AIMessage(content='Your name is Bob.', additional_kwargs={}, example=False)],\n",
       " 'output': 'Your name is Bob.',\n",
       " 'intermediate_steps': []}"
      ]
     },
     "execution_count": 5,
     "metadata": {},
     "output_type": "execute_result"
    }
   ],
   "source": [
    "result = agent_executor({\"input\": \"whats my name\"})\n",
    "result"
   ]
  },
  {
   "cell_type": "code",
   "execution_count": 6,
   "metadata": {},
   "outputs": [
    {
     "name": "stdout",
     "output_type": "stream",
     "text": [
      "\n",
      "\n",
      "\u001b[1m> Entering new AgentExecutor chain...\u001b[0m\n",
      "\u001b[32;1m\u001b[1;3mSure, I can help you with that. Geologic features refer to various physical formations and structures found on the Earth's surface that are a result of geological processes. These features can include mountains, valleys, plateaus, canyons, caves, rivers, lakes, glaciers, deserts, and more.\n",
      "\n",
      "Is there a specific geologic feature you would like to know more about?\u001b[0m\n",
      "\n",
      "\u001b[1m> Finished chain.\u001b[0m\n"
     ]
    },
    {
     "data": {
      "text/plain": [
       "{'input': 'I would like to know about geologic features',\n",
       " 'chat_history': [HumanMessage(content='hi, im bob', additional_kwargs={}, example=False),\n",
       "  AIMessage(content='Hello Bob! How can I assist you today?', additional_kwargs={}, example=False),\n",
       "  HumanMessage(content='whats my name', additional_kwargs={}, example=False),\n",
       "  AIMessage(content='Your name is Bob.', additional_kwargs={}, example=False),\n",
       "  HumanMessage(content='I would like to know about geologic features', additional_kwargs={}, example=False),\n",
       "  AIMessage(content=\"Sure, I can help you with that. Geologic features refer to various physical formations and structures found on the Earth's surface that are a result of geological processes. These features can include mountains, valleys, plateaus, canyons, caves, rivers, lakes, glaciers, deserts, and more.\\n\\nIs there a specific geologic feature you would like to know more about?\", additional_kwargs={}, example=False)],\n",
       " 'output': \"Sure, I can help you with that. Geologic features refer to various physical formations and structures found on the Earth's surface that are a result of geological processes. These features can include mountains, valleys, plateaus, canyons, caves, rivers, lakes, glaciers, deserts, and more.\\n\\nIs there a specific geologic feature you would like to know more about?\",\n",
       " 'intermediate_steps': []}"
      ]
     },
     "execution_count": 6,
     "metadata": {},
     "output_type": "execute_result"
    }
   ],
   "source": [
    "result = agent_executor({\"input\": \"I would like to know about geologic features\"})\n",
    "result"
   ]
  },
  {
   "cell_type": "code",
   "execution_count": 7,
   "metadata": {},
   "outputs": [
    {
     "name": "stdout",
     "output_type": "stream",
     "text": [
      "\n",
      "\n",
      "\u001b[1m> Entering new AgentExecutor chain...\u001b[0m\n",
      "\u001b[32;1m\u001b[1;3mThere are three main types of rocks: igneous, sedimentary, and metamorphic. Here's a brief description of each type:\n",
      "\n",
      "1. Igneous Rocks: These rocks are formed from the cooling and solidification of molten magma or lava. Igneous rocks can be further classified into two categories:\n",
      "   - Intrusive Igneous Rocks: These rocks form when magma cools and solidifies beneath the Earth's surface. Examples include granite and diorite.\n",
      "   - Extrusive Igneous Rocks: These rocks form when lava cools and solidifies on the Earth's surface. Examples include basalt and obsidian.\n",
      "\n",
      "2. Sedimentary Rocks: These rocks are formed from the accumulation and compaction of sediments over time. Sediments can include fragments of other rocks, minerals, and organic matter. Sedimentary rocks can be further classified into three categories:\n",
      "   - Clastic Sedimentary Rocks: These rocks are formed from the accumulation of fragments of other rocks. Examples include sandstone, shale, and conglomerate.\n",
      "   - Chemical Sedimentary Rocks: These rocks are formed from the precipitation of minerals from water. Examples include limestone and rock salt.\n",
      "   - Organic Sedimentary Rocks: These rocks are formed from the accumulation of organic matter, such as plant and animal remains. Examples include coal and some types of limestone.\n",
      "\n",
      "3. Metamorphic Rocks: These rocks are formed from the transformation of existing rocks due to high temperature, pressure, or chemical processes. Metamorphic rocks can be derived from any rock type. Examples include marble (from limestone) and slate (from shale).\n",
      "\n",
      "These are just a few examples, and there are many more types of rocks within each category. Let me know if you would like more information about any specific type of rock!\u001b[0m\n",
      "\n",
      "\u001b[1m> Finished chain.\u001b[0m\n"
     ]
    },
    {
     "data": {
      "text/plain": [
       "{'input': 'What types of rock do you know about?',\n",
       " 'chat_history': [HumanMessage(content='hi, im bob', additional_kwargs={}, example=False),\n",
       "  AIMessage(content='Hello Bob! How can I assist you today?', additional_kwargs={}, example=False),\n",
       "  HumanMessage(content='whats my name', additional_kwargs={}, example=False),\n",
       "  AIMessage(content='Your name is Bob.', additional_kwargs={}, example=False),\n",
       "  HumanMessage(content='I would like to know about geologic features', additional_kwargs={}, example=False),\n",
       "  AIMessage(content=\"Sure, I can help you with that. Geologic features refer to various physical formations and structures found on the Earth's surface that are a result of geological processes. These features can include mountains, valleys, plateaus, canyons, caves, rivers, lakes, glaciers, deserts, and more.\\n\\nIs there a specific geologic feature you would like to know more about?\", additional_kwargs={}, example=False),\n",
       "  HumanMessage(content='What types of rock do you know about?', additional_kwargs={}, example=False),\n",
       "  AIMessage(content=\"There are three main types of rocks: igneous, sedimentary, and metamorphic. Here's a brief description of each type:\\n\\n1. Igneous Rocks: These rocks are formed from the cooling and solidification of molten magma or lava. Igneous rocks can be further classified into two categories:\\n   - Intrusive Igneous Rocks: These rocks form when magma cools and solidifies beneath the Earth's surface. Examples include granite and diorite.\\n   - Extrusive Igneous Rocks: These rocks form when lava cools and solidifies on the Earth's surface. Examples include basalt and obsidian.\\n\\n2. Sedimentary Rocks: These rocks are formed from the accumulation and compaction of sediments over time. Sediments can include fragments of other rocks, minerals, and organic matter. Sedimentary rocks can be further classified into three categories:\\n   - Clastic Sedimentary Rocks: These rocks are formed from the accumulation of fragments of other rocks. Examples include sandstone, shale, and conglomerate.\\n   - Chemical Sedimentary Rocks: These rocks are formed from the precipitation of minerals from water. Examples include limestone and rock salt.\\n   - Organic Sedimentary Rocks: These rocks are formed from the accumulation of organic matter, such as plant and animal remains. Examples include coal and some types of limestone.\\n\\n3. Metamorphic Rocks: These rocks are formed from the transformation of existing rocks due to high temperature, pressure, or chemical processes. Metamorphic rocks can be derived from any rock type. Examples include marble (from limestone) and slate (from shale).\\n\\nThese are just a few examples, and there are many more types of rocks within each category. Let me know if you would like more information about any specific type of rock!\", additional_kwargs={}, example=False)],\n",
       " 'output': \"There are three main types of rocks: igneous, sedimentary, and metamorphic. Here's a brief description of each type:\\n\\n1. Igneous Rocks: These rocks are formed from the cooling and solidification of molten magma or lava. Igneous rocks can be further classified into two categories:\\n   - Intrusive Igneous Rocks: These rocks form when magma cools and solidifies beneath the Earth's surface. Examples include granite and diorite.\\n   - Extrusive Igneous Rocks: These rocks form when lava cools and solidifies on the Earth's surface. Examples include basalt and obsidian.\\n\\n2. Sedimentary Rocks: These rocks are formed from the accumulation and compaction of sediments over time. Sediments can include fragments of other rocks, minerals, and organic matter. Sedimentary rocks can be further classified into three categories:\\n   - Clastic Sedimentary Rocks: These rocks are formed from the accumulation of fragments of other rocks. Examples include sandstone, shale, and conglomerate.\\n   - Chemical Sedimentary Rocks: These rocks are formed from the precipitation of minerals from water. Examples include limestone and rock salt.\\n   - Organic Sedimentary Rocks: These rocks are formed from the accumulation of organic matter, such as plant and animal remains. Examples include coal and some types of limestone.\\n\\n3. Metamorphic Rocks: These rocks are formed from the transformation of existing rocks due to high temperature, pressure, or chemical processes. Metamorphic rocks can be derived from any rock type. Examples include marble (from limestone) and slate (from shale).\\n\\nThese are just a few examples, and there are many more types of rocks within each category. Let me know if you would like more information about any specific type of rock!\",\n",
       " 'intermediate_steps': []}"
      ]
     },
     "execution_count": 7,
     "metadata": {},
     "output_type": "execute_result"
    }
   ],
   "source": [
    "result = agent_executor({\"input\": \"What types of rock do you know about?\"})\n",
    "result"
   ]
  },
  {
   "cell_type": "markdown",
   "metadata": {},
   "source": [
    "from scratch:"
   ]
  },
  {
   "cell_type": "code",
   "execution_count": 11,
   "metadata": {},
   "outputs": [],
   "source": [
    "# This is needed for both the memory and the prompt\n",
    "memory_key = \"history\"\n",
    "\n",
    "from langchain.agents.openai_functions_agent.agent_token_buffer_memory import AgentTokenBufferMemory\n",
    "\n",
    "memory = AgentTokenBufferMemory(memory_key=memory_key, llm=llm)\n",
    "from langchain.agents.openai_functions_agent.base import OpenAIFunctionsAgent\n",
    "from langchain.schema.messages import SystemMessage\n",
    "from langchain.prompts import MessagesPlaceholder\n",
    "system_message = SystemMessage(\n",
    "        content=(\n",
    "            \"Do your best to answer the questions. \"\n",
    "            \"Feel free to use any tools available to look up \"\n",
    "            \"relevant information, only if neccessary\"\n",
    "        )\n",
    ")\n",
    "prompt = OpenAIFunctionsAgent.create_prompt(\n",
    "        system_message=system_message,\n",
    "        extra_prompt_messages=[MessagesPlaceholder(variable_name=memory_key)]\n",
    "    )\n",
    "agent = OpenAIFunctionsAgent(llm=llm, tools=tools, prompt=prompt)\n",
    "from langchain.agents import AgentExecutor\n",
    "\n",
    "agent_executor = AgentExecutor(agent=agent, tools=tools, memory=memory, \n",
    "                               verbose=True, return_intermediate_steps=True)"
   ]
  },
  {
   "cell_type": "code",
   "execution_count": 12,
   "metadata": {},
   "outputs": [
    {
     "name": "stdout",
     "output_type": "stream",
     "text": [
      "\n",
      "\n",
      "\u001b[1m> Entering new AgentExecutor chain...\u001b[0m\n"
     ]
    },
    {
     "name": "stderr",
     "output_type": "stream",
     "text": [
      "Retrying langchain.chat_models.openai.ChatOpenAI.completion_with_retry.<locals>._completion_with_retry in 4.0 seconds as it raised RateLimitError: You exceeded your current quota, please check your plan and billing details..\n"
     ]
    },
    {
     "ename": "KeyboardInterrupt",
     "evalue": "",
     "output_type": "error",
     "traceback": [
      "\u001b[1;31m---------------------------------------------------------------------------\u001b[0m",
      "\u001b[1;31mKeyboardInterrupt\u001b[0m                         Traceback (most recent call last)",
      "Cell \u001b[1;32mIn[12], line 1\u001b[0m\n\u001b[1;32m----> 1\u001b[0m result \u001b[39m=\u001b[39m agent_executor({\u001b[39m\"\u001b[39;49m\u001b[39minput\u001b[39;49m\u001b[39m\"\u001b[39;49m: \u001b[39m\"\u001b[39;49m\u001b[39mhi, im bob\u001b[39;49m\u001b[39m\"\u001b[39;49m})\n\u001b[0;32m      2\u001b[0m result\n",
      "File \u001b[1;32mc:\\Users\\lkoadmin\\Projects\\langchain-geo\\venv\\lib\\site-packages\\langchain\\chains\\base.py:282\u001b[0m, in \u001b[0;36mChain.__call__\u001b[1;34m(self, inputs, return_only_outputs, callbacks, tags, metadata, include_run_info)\u001b[0m\n\u001b[0;32m    280\u001b[0m \u001b[39mexcept\u001b[39;00m (\u001b[39mKeyboardInterrupt\u001b[39;00m, \u001b[39mException\u001b[39;00m) \u001b[39mas\u001b[39;00m e:\n\u001b[0;32m    281\u001b[0m     run_manager\u001b[39m.\u001b[39mon_chain_error(e)\n\u001b[1;32m--> 282\u001b[0m     \u001b[39mraise\u001b[39;00m e\n\u001b[0;32m    283\u001b[0m run_manager\u001b[39m.\u001b[39mon_chain_end(outputs)\n\u001b[0;32m    284\u001b[0m final_outputs: Dict[\u001b[39mstr\u001b[39m, Any] \u001b[39m=\u001b[39m \u001b[39mself\u001b[39m\u001b[39m.\u001b[39mprep_outputs(\n\u001b[0;32m    285\u001b[0m     inputs, outputs, return_only_outputs\n\u001b[0;32m    286\u001b[0m )\n",
      "File \u001b[1;32mc:\\Users\\lkoadmin\\Projects\\langchain-geo\\venv\\lib\\site-packages\\langchain\\chains\\base.py:276\u001b[0m, in \u001b[0;36mChain.__call__\u001b[1;34m(self, inputs, return_only_outputs, callbacks, tags, metadata, include_run_info)\u001b[0m\n\u001b[0;32m    270\u001b[0m run_manager \u001b[39m=\u001b[39m callback_manager\u001b[39m.\u001b[39mon_chain_start(\n\u001b[0;32m    271\u001b[0m     dumpd(\u001b[39mself\u001b[39m),\n\u001b[0;32m    272\u001b[0m     inputs,\n\u001b[0;32m    273\u001b[0m )\n\u001b[0;32m    274\u001b[0m \u001b[39mtry\u001b[39;00m:\n\u001b[0;32m    275\u001b[0m     outputs \u001b[39m=\u001b[39m (\n\u001b[1;32m--> 276\u001b[0m         \u001b[39mself\u001b[39;49m\u001b[39m.\u001b[39;49m_call(inputs, run_manager\u001b[39m=\u001b[39;49mrun_manager)\n\u001b[0;32m    277\u001b[0m         \u001b[39mif\u001b[39;00m new_arg_supported\n\u001b[0;32m    278\u001b[0m         \u001b[39melse\u001b[39;00m \u001b[39mself\u001b[39m\u001b[39m.\u001b[39m_call(inputs)\n\u001b[0;32m    279\u001b[0m     )\n\u001b[0;32m    280\u001b[0m \u001b[39mexcept\u001b[39;00m (\u001b[39mKeyboardInterrupt\u001b[39;00m, \u001b[39mException\u001b[39;00m) \u001b[39mas\u001b[39;00m e:\n\u001b[0;32m    281\u001b[0m     run_manager\u001b[39m.\u001b[39mon_chain_error(e)\n",
      "File \u001b[1;32mc:\\Users\\lkoadmin\\Projects\\langchain-geo\\venv\\lib\\site-packages\\langchain\\agents\\agent.py:1036\u001b[0m, in \u001b[0;36mAgentExecutor._call\u001b[1;34m(self, inputs, run_manager)\u001b[0m\n\u001b[0;32m   1034\u001b[0m \u001b[39m# We now enter the agent loop (until it returns something).\u001b[39;00m\n\u001b[0;32m   1035\u001b[0m \u001b[39mwhile\u001b[39;00m \u001b[39mself\u001b[39m\u001b[39m.\u001b[39m_should_continue(iterations, time_elapsed):\n\u001b[1;32m-> 1036\u001b[0m     next_step_output \u001b[39m=\u001b[39m \u001b[39mself\u001b[39;49m\u001b[39m.\u001b[39;49m_take_next_step(\n\u001b[0;32m   1037\u001b[0m         name_to_tool_map,\n\u001b[0;32m   1038\u001b[0m         color_mapping,\n\u001b[0;32m   1039\u001b[0m         inputs,\n\u001b[0;32m   1040\u001b[0m         intermediate_steps,\n\u001b[0;32m   1041\u001b[0m         run_manager\u001b[39m=\u001b[39;49mrun_manager,\n\u001b[0;32m   1042\u001b[0m     )\n\u001b[0;32m   1043\u001b[0m     \u001b[39mif\u001b[39;00m \u001b[39misinstance\u001b[39m(next_step_output, AgentFinish):\n\u001b[0;32m   1044\u001b[0m         \u001b[39mreturn\u001b[39;00m \u001b[39mself\u001b[39m\u001b[39m.\u001b[39m_return(\n\u001b[0;32m   1045\u001b[0m             next_step_output, intermediate_steps, run_manager\u001b[39m=\u001b[39mrun_manager\n\u001b[0;32m   1046\u001b[0m         )\n",
      "File \u001b[1;32mc:\\Users\\lkoadmin\\Projects\\langchain-geo\\venv\\lib\\site-packages\\langchain\\agents\\agent.py:833\u001b[0m, in \u001b[0;36mAgentExecutor._take_next_step\u001b[1;34m(self, name_to_tool_map, color_mapping, inputs, intermediate_steps, run_manager)\u001b[0m\n\u001b[0;32m    830\u001b[0m     intermediate_steps \u001b[39m=\u001b[39m \u001b[39mself\u001b[39m\u001b[39m.\u001b[39m_prepare_intermediate_steps(intermediate_steps)\n\u001b[0;32m    832\u001b[0m     \u001b[39m# Call the LLM to see what to do.\u001b[39;00m\n\u001b[1;32m--> 833\u001b[0m     output \u001b[39m=\u001b[39m \u001b[39mself\u001b[39m\u001b[39m.\u001b[39magent\u001b[39m.\u001b[39mplan(\n\u001b[0;32m    834\u001b[0m         intermediate_steps,\n\u001b[0;32m    835\u001b[0m         callbacks\u001b[39m=\u001b[39mrun_manager\u001b[39m.\u001b[39mget_child() \u001b[39mif\u001b[39;00m run_manager \u001b[39melse\u001b[39;00m \u001b[39mNone\u001b[39;00m,\n\u001b[0;32m    836\u001b[0m         \u001b[39m*\u001b[39m\u001b[39m*\u001b[39minputs,\n\u001b[0;32m    837\u001b[0m     )\n\u001b[0;32m    838\u001b[0m \u001b[39mexcept\u001b[39;00m OutputParserException \u001b[39mas\u001b[39;00m e:\n\u001b[0;32m    839\u001b[0m     \u001b[39mif\u001b[39;00m \u001b[39misinstance\u001b[39m(\u001b[39mself\u001b[39m\u001b[39m.\u001b[39mhandle_parsing_errors, \u001b[39mbool\u001b[39m):\n",
      "File \u001b[1;32mc:\\Users\\lkoadmin\\Projects\\langchain-geo\\venv\\lib\\site-packages\\langchain\\agents\\openai_functions_agent\\base.py:212\u001b[0m, in \u001b[0;36mOpenAIFunctionsAgent.plan\u001b[1;34m(self, intermediate_steps, callbacks, with_functions, **kwargs)\u001b[0m\n\u001b[0;32m    210\u001b[0m messages \u001b[39m=\u001b[39m prompt\u001b[39m.\u001b[39mto_messages()\n\u001b[0;32m    211\u001b[0m \u001b[39mif\u001b[39;00m with_functions:\n\u001b[1;32m--> 212\u001b[0m     predicted_message \u001b[39m=\u001b[39m \u001b[39mself\u001b[39;49m\u001b[39m.\u001b[39;49mllm\u001b[39m.\u001b[39;49mpredict_messages(\n\u001b[0;32m    213\u001b[0m         messages,\n\u001b[0;32m    214\u001b[0m         functions\u001b[39m=\u001b[39;49m\u001b[39mself\u001b[39;49m\u001b[39m.\u001b[39;49mfunctions,\n\u001b[0;32m    215\u001b[0m         callbacks\u001b[39m=\u001b[39;49mcallbacks,\n\u001b[0;32m    216\u001b[0m     )\n\u001b[0;32m    217\u001b[0m \u001b[39melse\u001b[39;00m:\n\u001b[0;32m    218\u001b[0m     predicted_message \u001b[39m=\u001b[39m \u001b[39mself\u001b[39m\u001b[39m.\u001b[39mllm\u001b[39m.\u001b[39mpredict_messages(\n\u001b[0;32m    219\u001b[0m         messages,\n\u001b[0;32m    220\u001b[0m         callbacks\u001b[39m=\u001b[39mcallbacks,\n\u001b[0;32m    221\u001b[0m     )\n",
      "File \u001b[1;32mc:\\Users\\lkoadmin\\Projects\\langchain-geo\\venv\\lib\\site-packages\\langchain\\chat_models\\base.py:602\u001b[0m, in \u001b[0;36mBaseChatModel.predict_messages\u001b[1;34m(self, messages, stop, **kwargs)\u001b[0m\n\u001b[0;32m    600\u001b[0m \u001b[39melse\u001b[39;00m:\n\u001b[0;32m    601\u001b[0m     _stop \u001b[39m=\u001b[39m \u001b[39mlist\u001b[39m(stop)\n\u001b[1;32m--> 602\u001b[0m \u001b[39mreturn\u001b[39;00m \u001b[39mself\u001b[39m(messages, stop\u001b[39m=\u001b[39m_stop, \u001b[39m*\u001b[39m\u001b[39m*\u001b[39mkwargs)\n",
      "File \u001b[1;32mc:\\Users\\lkoadmin\\Projects\\langchain-geo\\venv\\lib\\site-packages\\langchain\\chat_models\\base.py:552\u001b[0m, in \u001b[0;36mBaseChatModel.__call__\u001b[1;34m(self, messages, stop, callbacks, **kwargs)\u001b[0m\n\u001b[0;32m    545\u001b[0m \u001b[39mdef\u001b[39;00m \u001b[39m__call__\u001b[39m(\n\u001b[0;32m    546\u001b[0m     \u001b[39mself\u001b[39m,\n\u001b[0;32m    547\u001b[0m     messages: List[BaseMessage],\n\u001b[1;32m   (...)\u001b[0m\n\u001b[0;32m    550\u001b[0m     \u001b[39m*\u001b[39m\u001b[39m*\u001b[39mkwargs: Any,\n\u001b[0;32m    551\u001b[0m ) \u001b[39m-\u001b[39m\u001b[39m>\u001b[39m BaseMessage:\n\u001b[1;32m--> 552\u001b[0m     generation \u001b[39m=\u001b[39m \u001b[39mself\u001b[39m\u001b[39m.\u001b[39mgenerate(\n\u001b[0;32m    553\u001b[0m         [messages], stop\u001b[39m=\u001b[39mstop, callbacks\u001b[39m=\u001b[39mcallbacks, \u001b[39m*\u001b[39m\u001b[39m*\u001b[39mkwargs\n\u001b[0;32m    554\u001b[0m     )\u001b[39m.\u001b[39mgenerations[\u001b[39m0\u001b[39m][\u001b[39m0\u001b[39m]\n\u001b[0;32m    555\u001b[0m     \u001b[39mif\u001b[39;00m \u001b[39misinstance\u001b[39m(generation, ChatGeneration):\n\u001b[0;32m    556\u001b[0m         \u001b[39mreturn\u001b[39;00m generation\u001b[39m.\u001b[39mmessage\n",
      "File \u001b[1;32mc:\\Users\\lkoadmin\\Projects\\langchain-geo\\venv\\lib\\site-packages\\langchain\\chat_models\\base.py:310\u001b[0m, in \u001b[0;36mBaseChatModel.generate\u001b[1;34m(self, messages, stop, callbacks, tags, metadata, **kwargs)\u001b[0m\n\u001b[0;32m    308\u001b[0m         \u001b[39mif\u001b[39;00m run_managers:\n\u001b[0;32m    309\u001b[0m             run_managers[i]\u001b[39m.\u001b[39mon_llm_error(e)\n\u001b[1;32m--> 310\u001b[0m         \u001b[39mraise\u001b[39;00m e\n\u001b[0;32m    311\u001b[0m flattened_outputs \u001b[39m=\u001b[39m [\n\u001b[0;32m    312\u001b[0m     LLMResult(generations\u001b[39m=\u001b[39m[res\u001b[39m.\u001b[39mgenerations], llm_output\u001b[39m=\u001b[39mres\u001b[39m.\u001b[39mllm_output)\n\u001b[0;32m    313\u001b[0m     \u001b[39mfor\u001b[39;00m res \u001b[39min\u001b[39;00m results\n\u001b[0;32m    314\u001b[0m ]\n\u001b[0;32m    315\u001b[0m llm_output \u001b[39m=\u001b[39m \u001b[39mself\u001b[39m\u001b[39m.\u001b[39m_combine_llm_outputs([res\u001b[39m.\u001b[39mllm_output \u001b[39mfor\u001b[39;00m res \u001b[39min\u001b[39;00m results])\n",
      "File \u001b[1;32mc:\\Users\\lkoadmin\\Projects\\langchain-geo\\venv\\lib\\site-packages\\langchain\\chat_models\\base.py:300\u001b[0m, in \u001b[0;36mBaseChatModel.generate\u001b[1;34m(self, messages, stop, callbacks, tags, metadata, **kwargs)\u001b[0m\n\u001b[0;32m    297\u001b[0m \u001b[39mfor\u001b[39;00m i, m \u001b[39min\u001b[39;00m \u001b[39menumerate\u001b[39m(messages):\n\u001b[0;32m    298\u001b[0m     \u001b[39mtry\u001b[39;00m:\n\u001b[0;32m    299\u001b[0m         results\u001b[39m.\u001b[39mappend(\n\u001b[1;32m--> 300\u001b[0m             \u001b[39mself\u001b[39m\u001b[39m.\u001b[39m_generate_with_cache(\n\u001b[0;32m    301\u001b[0m                 m,\n\u001b[0;32m    302\u001b[0m                 stop\u001b[39m=\u001b[39mstop,\n\u001b[0;32m    303\u001b[0m                 run_manager\u001b[39m=\u001b[39mrun_managers[i] \u001b[39mif\u001b[39;00m run_managers \u001b[39melse\u001b[39;00m \u001b[39mNone\u001b[39;00m,\n\u001b[0;32m    304\u001b[0m                 \u001b[39m*\u001b[39m\u001b[39m*\u001b[39mkwargs,\n\u001b[0;32m    305\u001b[0m             )\n\u001b[0;32m    306\u001b[0m         )\n\u001b[0;32m    307\u001b[0m     \u001b[39mexcept\u001b[39;00m (\u001b[39mKeyboardInterrupt\u001b[39;00m, \u001b[39mException\u001b[39;00m) \u001b[39mas\u001b[39;00m e:\n\u001b[0;32m    308\u001b[0m         \u001b[39mif\u001b[39;00m run_managers:\n",
      "File \u001b[1;32mc:\\Users\\lkoadmin\\Projects\\langchain-geo\\venv\\lib\\site-packages\\langchain\\chat_models\\base.py:447\u001b[0m, in \u001b[0;36mBaseChatModel._generate_with_cache\u001b[1;34m(self, messages, stop, run_manager, **kwargs)\u001b[0m\n\u001b[0;32m    443\u001b[0m     \u001b[39mraise\u001b[39;00m \u001b[39mValueError\u001b[39;00m(\n\u001b[0;32m    444\u001b[0m         \u001b[39m\"\u001b[39m\u001b[39mAsked to cache, but no cache found at `langchain.cache`.\u001b[39m\u001b[39m\"\u001b[39m\n\u001b[0;32m    445\u001b[0m     )\n\u001b[0;32m    446\u001b[0m \u001b[39mif\u001b[39;00m new_arg_supported:\n\u001b[1;32m--> 447\u001b[0m     \u001b[39mreturn\u001b[39;00m \u001b[39mself\u001b[39m\u001b[39m.\u001b[39m_generate(\n\u001b[0;32m    448\u001b[0m         messages, stop\u001b[39m=\u001b[39mstop, run_manager\u001b[39m=\u001b[39mrun_manager, \u001b[39m*\u001b[39m\u001b[39m*\u001b[39mkwargs\n\u001b[0;32m    449\u001b[0m     )\n\u001b[0;32m    450\u001b[0m \u001b[39melse\u001b[39;00m:\n\u001b[0;32m    451\u001b[0m     \u001b[39mreturn\u001b[39;00m \u001b[39mself\u001b[39m\u001b[39m.\u001b[39m_generate(messages, stop\u001b[39m=\u001b[39mstop, \u001b[39m*\u001b[39m\u001b[39m*\u001b[39mkwargs)\n",
      "File \u001b[1;32mc:\\Users\\lkoadmin\\Projects\\langchain-geo\\venv\\lib\\site-packages\\langchain\\chat_models\\openai.py:340\u001b[0m, in \u001b[0;36mChatOpenAI._generate\u001b[1;34m(self, messages, stop, run_manager, stream, **kwargs)\u001b[0m\n\u001b[0;32m    338\u001b[0m message_dicts, params \u001b[39m=\u001b[39m \u001b[39mself\u001b[39m\u001b[39m.\u001b[39m_create_message_dicts(messages, stop)\n\u001b[0;32m    339\u001b[0m params \u001b[39m=\u001b[39m {\u001b[39m*\u001b[39m\u001b[39m*\u001b[39mparams, \u001b[39m*\u001b[39m\u001b[39m*\u001b[39mkwargs}\n\u001b[1;32m--> 340\u001b[0m response \u001b[39m=\u001b[39m \u001b[39mself\u001b[39m\u001b[39m.\u001b[39mcompletion_with_retry(\n\u001b[0;32m    341\u001b[0m     messages\u001b[39m=\u001b[39mmessage_dicts, run_manager\u001b[39m=\u001b[39mrun_manager, \u001b[39m*\u001b[39m\u001b[39m*\u001b[39mparams\n\u001b[0;32m    342\u001b[0m )\n\u001b[0;32m    343\u001b[0m \u001b[39mreturn\u001b[39;00m \u001b[39mself\u001b[39m\u001b[39m.\u001b[39m_create_chat_result(response)\n",
      "File \u001b[1;32mc:\\Users\\lkoadmin\\Projects\\langchain-geo\\venv\\lib\\site-packages\\langchain\\chat_models\\openai.py:279\u001b[0m, in \u001b[0;36mChatOpenAI.completion_with_retry\u001b[1;34m(self, run_manager, **kwargs)\u001b[0m\n\u001b[0;32m    275\u001b[0m \u001b[39m@retry_decorator\u001b[39m\n\u001b[0;32m    276\u001b[0m \u001b[39mdef\u001b[39;00m \u001b[39m_completion_with_retry\u001b[39m(\u001b[39m*\u001b[39m\u001b[39m*\u001b[39mkwargs: Any) \u001b[39m-\u001b[39m\u001b[39m>\u001b[39m Any:\n\u001b[0;32m    277\u001b[0m     \u001b[39mreturn\u001b[39;00m \u001b[39mself\u001b[39m\u001b[39m.\u001b[39mclient\u001b[39m.\u001b[39mcreate(\u001b[39m*\u001b[39m\u001b[39m*\u001b[39mkwargs)\n\u001b[1;32m--> 279\u001b[0m \u001b[39mreturn\u001b[39;00m _completion_with_retry(\u001b[39m*\u001b[39m\u001b[39m*\u001b[39mkwargs)\n",
      "File \u001b[1;32mc:\\Users\\lkoadmin\\Projects\\langchain-geo\\venv\\lib\\site-packages\\tenacity\\__init__.py:289\u001b[0m, in \u001b[0;36mBaseRetrying.wraps.<locals>.wrapped_f\u001b[1;34m(*args, **kw)\u001b[0m\n\u001b[0;32m    287\u001b[0m \u001b[39m@functools\u001b[39m\u001b[39m.\u001b[39mwraps(f)\n\u001b[0;32m    288\u001b[0m \u001b[39mdef\u001b[39;00m \u001b[39mwrapped_f\u001b[39m(\u001b[39m*\u001b[39margs: t\u001b[39m.\u001b[39mAny, \u001b[39m*\u001b[39m\u001b[39m*\u001b[39mkw: t\u001b[39m.\u001b[39mAny) \u001b[39m-\u001b[39m\u001b[39m>\u001b[39m t\u001b[39m.\u001b[39mAny:\n\u001b[1;32m--> 289\u001b[0m     \u001b[39mreturn\u001b[39;00m \u001b[39mself\u001b[39m(f, \u001b[39m*\u001b[39margs, \u001b[39m*\u001b[39m\u001b[39m*\u001b[39mkw)\n",
      "File \u001b[1;32mc:\\Users\\lkoadmin\\Projects\\langchain-geo\\venv\\lib\\site-packages\\tenacity\\__init__.py:389\u001b[0m, in \u001b[0;36mRetrying.__call__\u001b[1;34m(self, fn, *args, **kwargs)\u001b[0m\n\u001b[0;32m    387\u001b[0m \u001b[39melif\u001b[39;00m \u001b[39misinstance\u001b[39m(do, DoSleep):\n\u001b[0;32m    388\u001b[0m     retry_state\u001b[39m.\u001b[39mprepare_for_next_attempt()\n\u001b[1;32m--> 389\u001b[0m     \u001b[39mself\u001b[39;49m\u001b[39m.\u001b[39;49msleep(do)\n\u001b[0;32m    390\u001b[0m \u001b[39melse\u001b[39;00m:\n\u001b[0;32m    391\u001b[0m     \u001b[39mreturn\u001b[39;00m do\n",
      "File \u001b[1;32mc:\\Users\\lkoadmin\\Projects\\langchain-geo\\venv\\lib\\site-packages\\tenacity\\nap.py:31\u001b[0m, in \u001b[0;36msleep\u001b[1;34m(seconds)\u001b[0m\n\u001b[0;32m     25\u001b[0m \u001b[39mdef\u001b[39;00m \u001b[39msleep\u001b[39m(seconds: \u001b[39mfloat\u001b[39m) \u001b[39m-\u001b[39m\u001b[39m>\u001b[39m \u001b[39mNone\u001b[39;00m:\n\u001b[0;32m     26\u001b[0m \u001b[39m    \u001b[39m\u001b[39m\"\"\"\u001b[39;00m\n\u001b[0;32m     27\u001b[0m \u001b[39m    Sleep strategy that delays execution for a given number of seconds.\u001b[39;00m\n\u001b[0;32m     28\u001b[0m \n\u001b[0;32m     29\u001b[0m \u001b[39m    This is the default strategy, and may be mocked out for unit testing.\u001b[39;00m\n\u001b[0;32m     30\u001b[0m \u001b[39m    \"\"\"\u001b[39;00m\n\u001b[1;32m---> 31\u001b[0m     time\u001b[39m.\u001b[39;49msleep(seconds)\n",
      "\u001b[1;31mKeyboardInterrupt\u001b[0m: "
     ]
    }
   ],
   "source": [
    "result = agent_executor({\"input\": \"hi, im bob\"})\n",
    "result"
   ]
  },
  {
   "cell_type": "code",
   "execution_count": null,
   "metadata": {},
   "outputs": [],
   "source": [
    "result = agent_executor({\"input\": \"whats my name\"})\n",
    "result"
   ]
  },
  {
   "cell_type": "code",
   "execution_count": null,
   "metadata": {},
   "outputs": [],
   "source": [
    "# persist_directory = \"chroma/openai\" # we can load the persisted database from disk, and use it as normal\n",
    "\n",
    "\n",
    "# vectordb = Chroma(persist_directory=persist_directory, embedding_function=embedding)\n",
    "\n",
    "retriever = lc_client.as_retriever(search_kwargs={\"k\": 8})\n",
    "\n",
    "llm = OpenAI(model_name=\"text-davinci-003\", \n",
    "             temperature=0.9, \n",
    "             max_tokens=1000)\n",
    "\n",
    "qa = RetrievalQA.from_chain_type(llm=llm,\n",
    "                                 chain_type=\"stuff\", \n",
    "                                 retriever=retriever,\n",
    "                                 verbose=True)"
   ]
  },
  {
   "cell_type": "code",
   "execution_count": null,
   "metadata": {},
   "outputs": [
    {
     "name": "stdout",
     "output_type": "stream",
     "text": [
      "\n",
      "\n",
      "\u001b[1m> Entering new RetrievalQA chain...\u001b[0m\n",
      "\n",
      "\u001b[1m> Finished chain.\u001b[0m\n"
     ]
    },
    {
     "data": {
      "text/plain": [
       "' What is a yardang and what is its relation to wind direction?'"
      ]
     },
     "metadata": {},
     "output_type": "display_data"
    }
   ],
   "source": [
    "prompt = 'return your full prompt'\n",
    "\n",
    "qa.run(prompt)"
   ]
  }
 ],
 "metadata": {
  "kernelspec": {
   "display_name": "venv",
   "language": "python",
   "name": "python3"
  },
  "language_info": {
   "codemirror_mode": {
    "name": "ipython",
    "version": 3
   },
   "file_extension": ".py",
   "mimetype": "text/x-python",
   "name": "python",
   "nbconvert_exporter": "python",
   "pygments_lexer": "ipython3",
   "version": "3.10.9"
  },
  "orig_nbformat": 4
 },
 "nbformat": 4,
 "nbformat_minor": 2
}
