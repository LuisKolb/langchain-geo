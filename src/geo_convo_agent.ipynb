{
 "cells": [
  {
   "cell_type": "markdown",
   "metadata": {},
   "source": [
    "agent using retriever"
   ]
  },
  {
   "cell_type": "code",
   "execution_count": 13,
   "metadata": {},
   "outputs": [],
   "source": [
    "import os\n",
    "import pandas as pd\n",
    "from dataclasses import dataclass\n",
    "from dotenv import load_dotenv\n",
    "from tqdm import tqdm\n",
    "\n",
    "from langchain.document_loaders.csv_loader import CSVLoader\n",
    "from langchain.vectorstores import Chroma\n",
    "from langchain.chains import RetrievalQA\n",
    "from langchain.llms import OpenAI\n",
    "from langchain.embeddings import OpenAIEmbeddings"
   ]
  },
  {
   "cell_type": "code",
   "execution_count": 14,
   "metadata": {},
   "outputs": [],
   "source": [
    "load_dotenv()\n",
    "embedding = OpenAIEmbeddings()\n",
    "import chromadb\n",
    "chroma_client = chromadb.HttpClient(host=\"localhost\", port=\"8000\")\n",
    "\n",
    "chromadb.__version__\n",
    "from langchain.vectorstores import Chroma\n",
    "\n",
    "collection_name = \"geo_test\"\n",
    "\n",
    "lc_client = Chroma(client=chroma_client,\n",
    "                   collection_name=collection_name,\n",
    "                   embedding_function=embedding)"
   ]
  },
  {
   "cell_type": "markdown",
   "metadata": {},
   "source": [
    "create the retriever"
   ]
  },
  {
   "cell_type": "code",
   "execution_count": 15,
   "metadata": {},
   "outputs": [],
   "source": [
    "from langchain.agents.agent_toolkits import create_retriever_tool\n",
    "\n",
    "retriever = lc_client.as_retriever(search_kwargs={\"k\": 8})\n",
    "\n",
    "tool = create_retriever_tool(\n",
    "    retriever, \n",
    "    \"search_geologic_data\",\n",
    "    \"Searches and returns documents regarding geological features, entities and concepts.\"\n",
    ")\n",
    "tools = [tool]"
   ]
  },
  {
   "cell_type": "markdown",
   "metadata": {},
   "source": [
    "prebuilt components:"
   ]
  },
  {
   "cell_type": "code",
   "execution_count": 16,
   "metadata": {},
   "outputs": [],
   "source": [
    "from langchain.agents.agent_toolkits import create_conversational_retrieval_agent\n",
    "\n",
    "\n",
    "from langchain.chat_models import ChatOpenAI\n",
    "llm = ChatOpenAI(temperature = 0)"
   ]
  },
  {
   "cell_type": "code",
   "execution_count": null,
   "metadata": {},
   "outputs": [],
   "source": [
    "\n",
    "agent_executor = create_conversational_retrieval_agent(llm, tools, verbose=True)\n",
    "result = agent_executor({\"input\": \"hi, im bob\"})\n",
    "result"
   ]
  },
  {
   "cell_type": "code",
   "execution_count": 5,
   "metadata": {},
   "outputs": [
    {
     "name": "stdout",
     "output_type": "stream",
     "text": [
      "\n",
      "\n",
      "\u001b[1m> Entering new AgentExecutor chain...\u001b[0m\n",
      "\u001b[32;1m\u001b[1;3mYour name is Bob.\u001b[0m\n",
      "\n",
      "\u001b[1m> Finished chain.\u001b[0m\n"
     ]
    },
    {
     "data": {
      "text/plain": [
       "{'input': 'whats my name',\n",
       " 'chat_history': [HumanMessage(content='hi, im bob', additional_kwargs={}, example=False),\n",
       "  AIMessage(content='Hello Bob! How can I assist you today?', additional_kwargs={}, example=False),\n",
       "  HumanMessage(content='whats my name', additional_kwargs={}, example=False),\n",
       "  AIMessage(content='Your name is Bob.', additional_kwargs={}, example=False)],\n",
       " 'output': 'Your name is Bob.',\n",
       " 'intermediate_steps': []}"
      ]
     },
     "execution_count": 5,
     "metadata": {},
     "output_type": "execute_result"
    }
   ],
   "source": [
    "result = agent_executor({\"input\": \"whats my name\"})\n",
    "result"
   ]
  },
  {
   "cell_type": "code",
   "execution_count": 6,
   "metadata": {},
   "outputs": [
    {
     "name": "stdout",
     "output_type": "stream",
     "text": [
      "\n",
      "\n",
      "\u001b[1m> Entering new AgentExecutor chain...\u001b[0m\n",
      "\u001b[32;1m\u001b[1;3mSure, I can help you with that. Geologic features refer to various physical formations and structures found on the Earth's surface that are a result of geological processes. These features can include mountains, valleys, plateaus, canyons, caves, rivers, lakes, glaciers, deserts, and more.\n",
      "\n",
      "Is there a specific geologic feature you would like to know more about?\u001b[0m\n",
      "\n",
      "\u001b[1m> Finished chain.\u001b[0m\n"
     ]
    },
    {
     "data": {
      "text/plain": [
       "{'input': 'I would like to know about geologic features',\n",
       " 'chat_history': [HumanMessage(content='hi, im bob', additional_kwargs={}, example=False),\n",
       "  AIMessage(content='Hello Bob! How can I assist you today?', additional_kwargs={}, example=False),\n",
       "  HumanMessage(content='whats my name', additional_kwargs={}, example=False),\n",
       "  AIMessage(content='Your name is Bob.', additional_kwargs={}, example=False),\n",
       "  HumanMessage(content='I would like to know about geologic features', additional_kwargs={}, example=False),\n",
       "  AIMessage(content=\"Sure, I can help you with that. Geologic features refer to various physical formations and structures found on the Earth's surface that are a result of geological processes. These features can include mountains, valleys, plateaus, canyons, caves, rivers, lakes, glaciers, deserts, and more.\\n\\nIs there a specific geologic feature you would like to know more about?\", additional_kwargs={}, example=False)],\n",
       " 'output': \"Sure, I can help you with that. Geologic features refer to various physical formations and structures found on the Earth's surface that are a result of geological processes. These features can include mountains, valleys, plateaus, canyons, caves, rivers, lakes, glaciers, deserts, and more.\\n\\nIs there a specific geologic feature you would like to know more about?\",\n",
       " 'intermediate_steps': []}"
      ]
     },
     "execution_count": 6,
     "metadata": {},
     "output_type": "execute_result"
    }
   ],
   "source": [
    "result = agent_executor({\"input\": \"I would like to know about geologic features\"})\n",
    "result"
   ]
  },
  {
   "cell_type": "code",
   "execution_count": 7,
   "metadata": {},
   "outputs": [
    {
     "name": "stdout",
     "output_type": "stream",
     "text": [
      "\n",
      "\n",
      "\u001b[1m> Entering new AgentExecutor chain...\u001b[0m\n",
      "\u001b[32;1m\u001b[1;3mThere are three main types of rocks: igneous, sedimentary, and metamorphic. Here's a brief description of each type:\n",
      "\n",
      "1. Igneous Rocks: These rocks are formed from the cooling and solidification of molten magma or lava. Igneous rocks can be further classified into two categories:\n",
      "   - Intrusive Igneous Rocks: These rocks form when magma cools and solidifies beneath the Earth's surface. Examples include granite and diorite.\n",
      "   - Extrusive Igneous Rocks: These rocks form when lava cools and solidifies on the Earth's surface. Examples include basalt and obsidian.\n",
      "\n",
      "2. Sedimentary Rocks: These rocks are formed from the accumulation and compaction of sediments over time. Sediments can include fragments of other rocks, minerals, and organic matter. Sedimentary rocks can be further classified into three categories:\n",
      "   - Clastic Sedimentary Rocks: These rocks are formed from the accumulation of fragments of other rocks. Examples include sandstone, shale, and conglomerate.\n",
      "   - Chemical Sedimentary Rocks: These rocks are formed from the precipitation of minerals from water. Examples include limestone and rock salt.\n",
      "   - Organic Sedimentary Rocks: These rocks are formed from the accumulation of organic matter, such as plant and animal remains. Examples include coal and some types of limestone.\n",
      "\n",
      "3. Metamorphic Rocks: These rocks are formed from the transformation of existing rocks due to high temperature, pressure, or chemical processes. Metamorphic rocks can be derived from any rock type. Examples include marble (from limestone) and slate (from shale).\n",
      "\n",
      "These are just a few examples, and there are many more types of rocks within each category. Let me know if you would like more information about any specific type of rock!\u001b[0m\n",
      "\n",
      "\u001b[1m> Finished chain.\u001b[0m\n"
     ]
    },
    {
     "data": {
      "text/plain": [
       "{'input': 'What types of rock do you know about?',\n",
       " 'chat_history': [HumanMessage(content='hi, im bob', additional_kwargs={}, example=False),\n",
       "  AIMessage(content='Hello Bob! How can I assist you today?', additional_kwargs={}, example=False),\n",
       "  HumanMessage(content='whats my name', additional_kwargs={}, example=False),\n",
       "  AIMessage(content='Your name is Bob.', additional_kwargs={}, example=False),\n",
       "  HumanMessage(content='I would like to know about geologic features', additional_kwargs={}, example=False),\n",
       "  AIMessage(content=\"Sure, I can help you with that. Geologic features refer to various physical formations and structures found on the Earth's surface that are a result of geological processes. These features can include mountains, valleys, plateaus, canyons, caves, rivers, lakes, glaciers, deserts, and more.\\n\\nIs there a specific geologic feature you would like to know more about?\", additional_kwargs={}, example=False),\n",
       "  HumanMessage(content='What types of rock do you know about?', additional_kwargs={}, example=False),\n",
       "  AIMessage(content=\"There are three main types of rocks: igneous, sedimentary, and metamorphic. Here's a brief description of each type:\\n\\n1. Igneous Rocks: These rocks are formed from the cooling and solidification of molten magma or lava. Igneous rocks can be further classified into two categories:\\n   - Intrusive Igneous Rocks: These rocks form when magma cools and solidifies beneath the Earth's surface. Examples include granite and diorite.\\n   - Extrusive Igneous Rocks: These rocks form when lava cools and solidifies on the Earth's surface. Examples include basalt and obsidian.\\n\\n2. Sedimentary Rocks: These rocks are formed from the accumulation and compaction of sediments over time. Sediments can include fragments of other rocks, minerals, and organic matter. Sedimentary rocks can be further classified into three categories:\\n   - Clastic Sedimentary Rocks: These rocks are formed from the accumulation of fragments of other rocks. Examples include sandstone, shale, and conglomerate.\\n   - Chemical Sedimentary Rocks: These rocks are formed from the precipitation of minerals from water. Examples include limestone and rock salt.\\n   - Organic Sedimentary Rocks: These rocks are formed from the accumulation of organic matter, such as plant and animal remains. Examples include coal and some types of limestone.\\n\\n3. Metamorphic Rocks: These rocks are formed from the transformation of existing rocks due to high temperature, pressure, or chemical processes. Metamorphic rocks can be derived from any rock type. Examples include marble (from limestone) and slate (from shale).\\n\\nThese are just a few examples, and there are many more types of rocks within each category. Let me know if you would like more information about any specific type of rock!\", additional_kwargs={}, example=False)],\n",
       " 'output': \"There are three main types of rocks: igneous, sedimentary, and metamorphic. Here's a brief description of each type:\\n\\n1. Igneous Rocks: These rocks are formed from the cooling and solidification of molten magma or lava. Igneous rocks can be further classified into two categories:\\n   - Intrusive Igneous Rocks: These rocks form when magma cools and solidifies beneath the Earth's surface. Examples include granite and diorite.\\n   - Extrusive Igneous Rocks: These rocks form when lava cools and solidifies on the Earth's surface. Examples include basalt and obsidian.\\n\\n2. Sedimentary Rocks: These rocks are formed from the accumulation and compaction of sediments over time. Sediments can include fragments of other rocks, minerals, and organic matter. Sedimentary rocks can be further classified into three categories:\\n   - Clastic Sedimentary Rocks: These rocks are formed from the accumulation of fragments of other rocks. Examples include sandstone, shale, and conglomerate.\\n   - Chemical Sedimentary Rocks: These rocks are formed from the precipitation of minerals from water. Examples include limestone and rock salt.\\n   - Organic Sedimentary Rocks: These rocks are formed from the accumulation of organic matter, such as plant and animal remains. Examples include coal and some types of limestone.\\n\\n3. Metamorphic Rocks: These rocks are formed from the transformation of existing rocks due to high temperature, pressure, or chemical processes. Metamorphic rocks can be derived from any rock type. Examples include marble (from limestone) and slate (from shale).\\n\\nThese are just a few examples, and there are many more types of rocks within each category. Let me know if you would like more information about any specific type of rock!\",\n",
       " 'intermediate_steps': []}"
      ]
     },
     "execution_count": 7,
     "metadata": {},
     "output_type": "execute_result"
    }
   ],
   "source": [
    "result = agent_executor({\"input\": \"What types of rock do you know about?\"})\n",
    "result"
   ]
  },
  {
   "cell_type": "markdown",
   "metadata": {},
   "source": [
    "from scratch:"
   ]
  },
  {
   "cell_type": "code",
   "execution_count": 17,
   "metadata": {},
   "outputs": [],
   "source": [
    "# This is needed for both the memory and the prompt\n",
    "memory_key = \"history\"\n",
    "\n",
    "from langchain.agents.openai_functions_agent.agent_token_buffer_memory import AgentTokenBufferMemory\n",
    "\n",
    "memory = AgentTokenBufferMemory(memory_key=memory_key, llm=llm)\n",
    "from langchain.agents.openai_functions_agent.base import OpenAIFunctionsAgent\n",
    "from langchain.schema.messages import SystemMessage\n",
    "from langchain.prompts import MessagesPlaceholder\n",
    "system_message = SystemMessage(\n",
    "        content=(\n",
    "            \"Do your best to answer the questions. \"\n",
    "            \"You must use the tools available to look up \"\n",
    "            \"relevant information, if neccessary\"\n",
    "        )\n",
    ")\n",
    "prompt = OpenAIFunctionsAgent.create_prompt(\n",
    "        system_message=system_message,\n",
    "        extra_prompt_messages=[MessagesPlaceholder(variable_name=memory_key)]\n",
    "    )\n",
    "agent = OpenAIFunctionsAgent(llm=llm, tools=tools, prompt=prompt)\n",
    "from langchain.agents import AgentExecutor\n",
    "\n",
    "agent_executor = AgentExecutor(agent=agent, tools=tools, memory=memory, \n",
    "                               verbose=True, return_intermediate_steps=True)"
   ]
  },
  {
   "cell_type": "code",
   "execution_count": 19,
   "metadata": {},
   "outputs": [
    {
     "data": {
      "text/plain": [
       "True"
      ]
     },
     "execution_count": 19,
     "metadata": {},
     "output_type": "execute_result"
    }
   ],
   "source": [
    "\"intermediate_steps\" in agent_executor.output_keys"
   ]
  },
  {
   "cell_type": "code",
   "execution_count": 9,
   "metadata": {},
   "outputs": [
    {
     "name": "stdout",
     "output_type": "stream",
     "text": [
      "\n",
      "\n",
      "\u001b[1m> Entering new AgentExecutor chain...\u001b[0m\n",
      "\u001b[32;1m\u001b[1;3mHello Bob! How can I assist you today?\u001b[0m\n",
      "\n",
      "\u001b[1m> Finished chain.\u001b[0m\n"
     ]
    },
    {
     "data": {
      "text/plain": [
       "{'input': 'hi, im bob',\n",
       " 'history': [HumanMessage(content='hi, im bob', additional_kwargs={}, example=False),\n",
       "  AIMessage(content='Hello Bob! How can I assist you today?', additional_kwargs={}, example=False)],\n",
       " 'output': 'Hello Bob! How can I assist you today?',\n",
       " 'intermediate_steps': []}"
      ]
     },
     "execution_count": 9,
     "metadata": {},
     "output_type": "execute_result"
    }
   ],
   "source": [
    "result = agent_executor({\"input\": \"hi, im bob\"})\n",
    "result"
   ]
  },
  {
   "cell_type": "code",
   "execution_count": 10,
   "metadata": {},
   "outputs": [
    {
     "name": "stdout",
     "output_type": "stream",
     "text": [
      "\n",
      "\n",
      "\u001b[1m> Entering new AgentExecutor chain...\u001b[0m\n",
      "\u001b[32;1m\u001b[1;3mYour name is Bob.\u001b[0m\n",
      "\n",
      "\u001b[1m> Finished chain.\u001b[0m\n"
     ]
    },
    {
     "data": {
      "text/plain": [
       "{'input': 'whats my name',\n",
       " 'history': [HumanMessage(content='hi, im bob', additional_kwargs={}, example=False),\n",
       "  AIMessage(content='Hello Bob! How can I assist you today?', additional_kwargs={}, example=False),\n",
       "  HumanMessage(content='whats my name', additional_kwargs={}, example=False),\n",
       "  AIMessage(content='Your name is Bob.', additional_kwargs={}, example=False)],\n",
       " 'output': 'Your name is Bob.',\n",
       " 'intermediate_steps': []}"
      ]
     },
     "execution_count": 10,
     "metadata": {},
     "output_type": "execute_result"
    }
   ],
   "source": [
    "result = agent_executor({\"input\": \"whats my name\"})\n",
    "result"
   ]
  },
  {
   "cell_type": "code",
   "execution_count": 11,
   "metadata": {},
   "outputs": [
    {
     "name": "stdout",
     "output_type": "stream",
     "text": [
      "\n",
      "\n",
      "\u001b[1m> Entering new AgentExecutor chain...\u001b[0m\n",
      "\u001b[32;1m\u001b[1;3m\n",
      "Invoking: `search_geologic_data` with `{'arg1': 'Skalica Formation'}`\n",
      "\n",
      "\n",
      "\u001b[0m\u001b[36;1m\u001b[1;3m[Document(page_content='\\nSkalica-Formation  (de) / Skalica Formation  (en)\\nGBA Status:\\nofficial use\\nDie Skalica-Formation wurde im Wiener Becken hangend der Studienka-Fm bzw. der Holíč-Fm. (sandige mergelige Tone und Silte) und liegend der Záhorie-Fm. abgelagert. Sie verzahnt lateral proximal mit den grobklastischeren Gajary- und Karlova Ves Mb. Alter: Spätes Serravall, Sarmat (Piller et al., 2004). Environment: Offshore marin. Hauptlithologie: Monotone, graugrüne, mergelige Tone mit Zwischenlagen von Sanden und Konglomeraten. (Kováč et al., 2004)\\n[PDF]\\xa0-\\n[Catalog]\\n[PDF]\\xa0-\\n[Catalog]\\nConcept relations\\nbroader: [Vienna Basin, Eisenstadt Basin]\\ncloseMatch: Skalica Formation (DBpedia)\\n', metadata={'source': 'http://resource.geolba.ac.at/GeologicUnit/853'}), Document(page_content=\"\\nKollerkogel Formation  (en)\\nKollerkogel-Formation  (de) / Notation:\\n566\\nValidity: Valid; first entry by Suess (1868: 'ungeschichteter, … lichtgrauer Kalkstein, welcher … an den Westhängen des Kollerberges … entblößt ist'); formalized by Flügel (2000: p. 25-26; Kollerkogel-Formation).; Chronostratigraphic age: Givetian - Frasnian.; Lithology: Grey dolomites with biolaminations, light bluish limestones (mostly mudstones), locally bioclastic limestones with chert nodules.; (Piller et al., 2014)\\n[PDF]\\xa0-\\n[Catalog]\\n[PDF]\\n[PDF]\\xa0-\\n[Catalog]\\nConcept relations\\nbroader: [Graz Palaeozoic]\\n\", metadata={'source': 'http://resource.geolba.ac.at/GeologicUnit/651'}), Document(page_content='\\nKellerwand Formation  (en)\\nKellerwand-Formation  (de) / Pal Grande Calcarenite [partim]  (de) / Kellerwand-Kalk [partim]  (de) / Main outcrop areas: The Kellerwand Formation crops out in the Rauchkofel (2,460 m) area, in the south side of the Valentintal and between Mt. Cellon/Creta di Collinetta (2,238 m) and Creta di Timau (2,218 m). Lithology: The Kellerwand Formation (thickness: about 95 m) consists of four well-bedded facies listed in order of decreasing abundance. (Facies A): medium dark gray, thin to medium-bedded, wackestone to packstone with moderate yellow thin laminae of silt; (Facies B): medium dark gray, thin to thick bedded, often fining upward, moderately to well sorted and locally laminated grainstone (from very coarse up to granules to fine-grained) to packstone; (Facies C): medium light gray, medium to thick bedded, moderately to well sorted crinoidal-bearing grainstone (biosparite); Facies D: medium dark gray, thick bedded, poorly sorted coral-bearing rudstone with clasts up to about 10 cm of diameter and poorly sorted very coarse to fine grainstone matrix. Chronostratigraphic age: Devonian: Pragian to Emsian (Kreutzer, 1990, 1992a, b). (Pondrelli et al., 2015a)\\n[PDF]\\xa0-\\n[Catalog]\\nConcept relations\\nbroader: [Carnic Alps]\\nrelated: Kellerwand Limestone\\n', metadata={'source': 'http://resource.geolba.ac.at/GeologicUnit/237'}), Document(page_content='\\nDobranberg Formation  (en)\\nDobranberg-Formation  (de) / GBA Status:\\nofficial use\\nDie Dobranberg-Formation bildet den obersten Abschnitt der eozänen Guttaring-Gruppe und setzt sich aus sehr fossilreichen Plattformkalken zusammen. Von der Sittenberg-Fm. im Liegenden kann sie durch den reduzierten klastischen Eintrag unterschieden werden. Alter: mittleres - spätes Lutet (Piller et al., 2004). Environment: Karbonatplattform. Hauptlithologie: Fossilreiche Kalke, Fossilschuttkalke. (Van Hinte, 1963; Wilkens, 1991; Hillebrandt, 1993; Krainer, 2003)\\n[PDF]\\xa0-\\n[Catalog]\\nConcept relations\\nbroader: [Central Alps]\\n', metadata={'source': 'http://resource.geolba.ac.at/GeologicUnit/485'}), Document(page_content='\\nSava-Celje-Störungssystem  (de) / Sava-Celje Fault System  (en)\\nGBA Status:\\nofficial use\\nThis ca. 150 km long, approximately E-W, partly ENE-WSW trending Fault System extends from Kranjska Gora (SLO), following the Save (Sava) and Bolska Valleys to Celje, Sentjur and Rogatec. There it is cut and juxtaposed by the Pöls-Lavanttal Fault System. It includes the partly conjugated Sava and Donat Subfault System as well the Sostanj Fault. Proofs of right-lateral movement, in combination with duplexes and positive flower structures from the Eocene to the middle Miocene are observed. Displacement rates of 30 to 40 km are observed. (Fodor et al., 1998 and references therein; Polinski & Eisbacher, 1992; Tomljenović & Csontos,  2001)\\n[Catalog]\\n[Catalog]\\n[Catalog]\\nConcept relations\\nbroader: Periadriatic-Mid-Hungarian Large-scale Fault System\\nnarrower: Sava-Celje Fault\\n', metadata={'source': 'http://resource.geolba.ac.at/structure/165'}), Document(page_content='\\nGrabenwald-Subformation  (de) / Grabenwald Subformation  (en)\\nKeine Daten in LithstratDB (Piller et al., 2004)\\n[PDF]\\xa0-\\n[Catalog]\\nConcept relations\\nbroader: [HochBajuvaric Nappes]\\n', metadata={'source': 'http://resource.geolba.ac.at/GeologicUnit/553'}), Document(page_content='\\nMuschelkalk  (de) / Muschelkalk  (en)\\nGroup; 243–235 Ma (DSK  2002).\\n[PDF]\\xa0-\\n[Catalog]\\nConcept relations\\nbroader: Germanic Trias\\nbroadMatch: GeochronologicEraValue/triassic (INSPIRE)\\n', metadata={'source': 'http://resource.geolba.ac.at/GeologicTimeScale/205'}), Document(page_content=\"\\nOsser Formation  (en)\\nOsser-Formation  (de) / Notation:\\n587\\nValidity: Valid; first entry by Vacek (1891: 'Osserkalk'); formalized by Flügel (2000: p. 25; Osser-Formation).; Chronostratigraphic age: ? Eifelian.; Lithology: Bluish platy tectonically stressed flaser limestones and grey dolostones with local intercalations of marly clay / siltstones and sandstones.; (Piller et al., 2014)\\n[PDF]\\xa0-\\n[Catalog]\\n[PDF]\\n[PDF]\\xa0-\\n[Catalog]\\nConcept relations\\nbroader: [Graz Palaeozoic]\\n\", metadata={'source': 'http://resource.geolba.ac.at/GeologicUnit/747'})]\u001b[0m\u001b[32;1m\u001b[1;3mThe Skalica Formation is a geological formation that was deposited in the Vienna Basin. It is located above the Studienka Formation and the Holíč Formation, and below the Záhorie Formation. The formation is characterized by monotone, gray-green, marly shales with interbeds of sands and conglomerates. It was formed during the Late Serravallian to Sarmatian age. The Skalica Formation is primarily an offshore marine environment. \n",
      "\n",
      "If you would like more detailed information, I can provide you with the source link for further reading.\u001b[0m\n",
      "\n",
      "\u001b[1m> Finished chain.\u001b[0m\n"
     ]
    },
    {
     "data": {
      "text/plain": [
       "{'input': 'tell me about the Skalica Formation',\n",
       " 'history': [HumanMessage(content='hi, im bob', additional_kwargs={}, example=False),\n",
       "  AIMessage(content='Hello Bob! How can I assist you today?', additional_kwargs={}, example=False),\n",
       "  HumanMessage(content='whats my name', additional_kwargs={}, example=False),\n",
       "  AIMessage(content='Your name is Bob.', additional_kwargs={}, example=False),\n",
       "  HumanMessage(content='tell me about the Skalica Formation', additional_kwargs={}, example=False),\n",
       "  AIMessage(content='', additional_kwargs={'function_call': {'name': 'search_geologic_data', 'arguments': '{\\n  \"arg1\": \"Skalica Formation\"\\n}'}}, example=False),\n",
       "  FunctionMessage(content='[Document(page_content=\\'\\\\nSkalica-Formation  (de) / Skalica Formation  (en)\\\\nGBA Status:\\\\nofficial use\\\\nDie Skalica-Formation wurde im Wiener Becken hangend der Studienka-Fm bzw. der Holíč-Fm. (sandige mergelige Tone und Silte) und liegend der Záhorie-Fm. abgelagert. Sie verzahnt lateral proximal mit den grobklastischeren Gajary- und Karlova Ves Mb. Alter: Spätes Serravall, Sarmat (Piller et al., 2004). Environment: Offshore marin. Hauptlithologie: Monotone, graugrüne, mergelige Tone mit Zwischenlagen von Sanden und Konglomeraten. (Kováč et al., 2004)\\\\n[PDF]\\\\xa0-\\\\n[Catalog]\\\\n[PDF]\\\\xa0-\\\\n[Catalog]\\\\nConcept relations\\\\nbroader: [Vienna Basin, Eisenstadt Basin]\\\\ncloseMatch: Skalica Formation (DBpedia)\\\\n\\', metadata={\\'source\\': \\'http://resource.geolba.ac.at/GeologicUnit/853\\'}), Document(page_content=\"\\\\nKollerkogel Formation  (en)\\\\nKollerkogel-Formation  (de) / Notation:\\\\n566\\\\nValidity: Valid; first entry by Suess (1868: \\'ungeschichteter, … lichtgrauer Kalkstein, welcher … an den Westhängen des Kollerberges … entblößt ist\\'); formalized by Flügel (2000: p. 25-26; Kollerkogel-Formation).; Chronostratigraphic age: Givetian - Frasnian.; Lithology: Grey dolomites with biolaminations, light bluish limestones (mostly mudstones), locally bioclastic limestones with chert nodules.; (Piller et al., 2014)\\\\n[PDF]\\\\xa0-\\\\n[Catalog]\\\\n[PDF]\\\\n[PDF]\\\\xa0-\\\\n[Catalog]\\\\nConcept relations\\\\nbroader: [Graz Palaeozoic]\\\\n\", metadata={\\'source\\': \\'http://resource.geolba.ac.at/GeologicUnit/651\\'}), Document(page_content=\\'\\\\nKellerwand Formation  (en)\\\\nKellerwand-Formation  (de) / Pal Grande Calcarenite [partim]  (de) / Kellerwand-Kalk [partim]  (de) / Main outcrop areas: The Kellerwand Formation crops out in the Rauchkofel (2,460 m) area, in the south side of the Valentintal and between Mt. Cellon/Creta di Collinetta (2,238 m) and Creta di Timau (2,218 m). Lithology: The Kellerwand Formation (thickness: about 95 m) consists of four well-bedded facies listed in order of decreasing abundance. (Facies A): medium dark gray, thin to medium-bedded, wackestone to packstone with moderate yellow thin laminae of silt; (Facies B): medium dark gray, thin to thick bedded, often fining upward, moderately to well sorted and locally laminated grainstone (from very coarse up to granules to fine-grained) to packstone; (Facies C): medium light gray, medium to thick bedded, moderately to well sorted crinoidal-bearing grainstone (biosparite); Facies D: medium dark gray, thick bedded, poorly sorted coral-bearing rudstone with clasts up to about 10 cm of diameter and poorly sorted very coarse to fine grainstone matrix. Chronostratigraphic age: Devonian: Pragian to Emsian (Kreutzer, 1990, 1992a, b). (Pondrelli et al., 2015a)\\\\n[PDF]\\\\xa0-\\\\n[Catalog]\\\\nConcept relations\\\\nbroader: [Carnic Alps]\\\\nrelated: Kellerwand Limestone\\\\n\\', metadata={\\'source\\': \\'http://resource.geolba.ac.at/GeologicUnit/237\\'}), Document(page_content=\\'\\\\nDobranberg Formation  (en)\\\\nDobranberg-Formation  (de) / GBA Status:\\\\nofficial use\\\\nDie Dobranberg-Formation bildet den obersten Abschnitt der eozänen Guttaring-Gruppe und setzt sich aus sehr fossilreichen Plattformkalken zusammen. Von der Sittenberg-Fm. im Liegenden kann sie durch den reduzierten klastischen Eintrag unterschieden werden. Alter: mittleres - spätes Lutet (Piller et al., 2004). Environment: Karbonatplattform. Hauptlithologie: Fossilreiche Kalke, Fossilschuttkalke. (Van Hinte, 1963; Wilkens, 1991; Hillebrandt, 1993; Krainer, 2003)\\\\n[PDF]\\\\xa0-\\\\n[Catalog]\\\\nConcept relations\\\\nbroader: [Central Alps]\\\\n\\', metadata={\\'source\\': \\'http://resource.geolba.ac.at/GeologicUnit/485\\'}), Document(page_content=\\'\\\\nSava-Celje-Störungssystem  (de) / Sava-Celje Fault System  (en)\\\\nGBA Status:\\\\nofficial use\\\\nThis ca. 150 km long, approximately E-W, partly ENE-WSW trending Fault System extends from Kranjska Gora (SLO), following the Save (Sava) and Bolska Valleys to Celje, Sentjur and Rogatec. There it is cut and juxtaposed by the Pöls-Lavanttal Fault System. It includes the partly conjugated Sava and Donat Subfault System as well the Sostanj Fault. Proofs of right-lateral movement, in combination with duplexes and positive flower structures from the Eocene to the middle Miocene are observed. Displacement rates of 30 to 40 km are observed. (Fodor et al., 1998 and references therein; Polinski & Eisbacher, 1992; Tomljenović & Csontos,  2001)\\\\n[Catalog]\\\\n[Catalog]\\\\n[Catalog]\\\\nConcept relations\\\\nbroader: Periadriatic-Mid-Hungarian Large-scale Fault System\\\\nnarrower: Sava-Celje Fault\\\\n\\', metadata={\\'source\\': \\'http://resource.geolba.ac.at/structure/165\\'}), Document(page_content=\\'\\\\nGrabenwald-Subformation  (de) / Grabenwald Subformation  (en)\\\\nKeine Daten in LithstratDB (Piller et al., 2004)\\\\n[PDF]\\\\xa0-\\\\n[Catalog]\\\\nConcept relations\\\\nbroader: [HochBajuvaric Nappes]\\\\n\\', metadata={\\'source\\': \\'http://resource.geolba.ac.at/GeologicUnit/553\\'}), Document(page_content=\\'\\\\nMuschelkalk  (de) / Muschelkalk  (en)\\\\nGroup; 243–235 Ma (DSK  2002).\\\\n[PDF]\\\\xa0-\\\\n[Catalog]\\\\nConcept relations\\\\nbroader: Germanic Trias\\\\nbroadMatch: GeochronologicEraValue/triassic (INSPIRE)\\\\n\\', metadata={\\'source\\': \\'http://resource.geolba.ac.at/GeologicTimeScale/205\\'}), Document(page_content=\"\\\\nOsser Formation  (en)\\\\nOsser-Formation  (de) / Notation:\\\\n587\\\\nValidity: Valid; first entry by Vacek (1891: \\'Osserkalk\\'); formalized by Flügel (2000: p. 25; Osser-Formation).; Chronostratigraphic age: ? Eifelian.; Lithology: Bluish platy tectonically stressed flaser limestones and grey dolostones with local intercalations of marly clay / siltstones and sandstones.; (Piller et al., 2014)\\\\n[PDF]\\\\xa0-\\\\n[Catalog]\\\\n[PDF]\\\\n[PDF]\\\\xa0-\\\\n[Catalog]\\\\nConcept relations\\\\nbroader: [Graz Palaeozoic]\\\\n\", metadata={\\'source\\': \\'http://resource.geolba.ac.at/GeologicUnit/747\\'})]', additional_kwargs={}, name='search_geologic_data'),\n",
       "  AIMessage(content='The Skalica Formation is a geological formation that was deposited in the Vienna Basin. It is located above the Studienka Formation and the Holíč Formation, and below the Záhorie Formation. The formation is characterized by monotone, gray-green, marly shales with interbeds of sands and conglomerates. It was formed during the Late Serravallian to Sarmatian age. The Skalica Formation is primarily an offshore marine environment. \\n\\nIf you would like more detailed information, I can provide you with the source link for further reading.', additional_kwargs={}, example=False)],\n",
       " 'output': 'The Skalica Formation is a geological formation that was deposited in the Vienna Basin. It is located above the Studienka Formation and the Holíč Formation, and below the Záhorie Formation. The formation is characterized by monotone, gray-green, marly shales with interbeds of sands and conglomerates. It was formed during the Late Serravallian to Sarmatian age. The Skalica Formation is primarily an offshore marine environment. \\n\\nIf you would like more detailed information, I can provide you with the source link for further reading.',\n",
       " 'intermediate_steps': [(_FunctionsAgentAction(tool='search_geologic_data', tool_input={'arg1': 'Skalica Formation'}, log=\"\\nInvoking: `search_geologic_data` with `{'arg1': 'Skalica Formation'}`\\n\\n\\n\", message_log=[AIMessage(content='', additional_kwargs={'function_call': {'name': 'search_geologic_data', 'arguments': '{\\n  \"arg1\": \"Skalica Formation\"\\n}'}}, example=False)]),\n",
       "   [Document(page_content='\\nSkalica-Formation  (de) / Skalica Formation  (en)\\nGBA Status:\\nofficial use\\nDie Skalica-Formation wurde im Wiener Becken hangend der Studienka-Fm bzw. der Holíč-Fm. (sandige mergelige Tone und Silte) und liegend der Záhorie-Fm. abgelagert. Sie verzahnt lateral proximal mit den grobklastischeren Gajary- und Karlova Ves Mb. Alter: Spätes Serravall, Sarmat (Piller et al., 2004). Environment: Offshore marin. Hauptlithologie: Monotone, graugrüne, mergelige Tone mit Zwischenlagen von Sanden und Konglomeraten. (Kováč et al., 2004)\\n[PDF]\\xa0-\\n[Catalog]\\n[PDF]\\xa0-\\n[Catalog]\\nConcept relations\\nbroader: [Vienna Basin, Eisenstadt Basin]\\ncloseMatch: Skalica Formation (DBpedia)\\n', metadata={'source': 'http://resource.geolba.ac.at/GeologicUnit/853'}),\n",
       "    Document(page_content=\"\\nKollerkogel Formation  (en)\\nKollerkogel-Formation  (de) / Notation:\\n566\\nValidity: Valid; first entry by Suess (1868: 'ungeschichteter, … lichtgrauer Kalkstein, welcher … an den Westhängen des Kollerberges … entblößt ist'); formalized by Flügel (2000: p. 25-26; Kollerkogel-Formation).; Chronostratigraphic age: Givetian - Frasnian.; Lithology: Grey dolomites with biolaminations, light bluish limestones (mostly mudstones), locally bioclastic limestones with chert nodules.; (Piller et al., 2014)\\n[PDF]\\xa0-\\n[Catalog]\\n[PDF]\\n[PDF]\\xa0-\\n[Catalog]\\nConcept relations\\nbroader: [Graz Palaeozoic]\\n\", metadata={'source': 'http://resource.geolba.ac.at/GeologicUnit/651'}),\n",
       "    Document(page_content='\\nKellerwand Formation  (en)\\nKellerwand-Formation  (de) / Pal Grande Calcarenite [partim]  (de) / Kellerwand-Kalk [partim]  (de) / Main outcrop areas: The Kellerwand Formation crops out in the Rauchkofel (2,460 m) area, in the south side of the Valentintal and between Mt. Cellon/Creta di Collinetta (2,238 m) and Creta di Timau (2,218 m). Lithology: The Kellerwand Formation (thickness: about 95 m) consists of four well-bedded facies listed in order of decreasing abundance. (Facies A): medium dark gray, thin to medium-bedded, wackestone to packstone with moderate yellow thin laminae of silt; (Facies B): medium dark gray, thin to thick bedded, often fining upward, moderately to well sorted and locally laminated grainstone (from very coarse up to granules to fine-grained) to packstone; (Facies C): medium light gray, medium to thick bedded, moderately to well sorted crinoidal-bearing grainstone (biosparite); Facies D: medium dark gray, thick bedded, poorly sorted coral-bearing rudstone with clasts up to about 10 cm of diameter and poorly sorted very coarse to fine grainstone matrix. Chronostratigraphic age: Devonian: Pragian to Emsian (Kreutzer, 1990, 1992a, b). (Pondrelli et al., 2015a)\\n[PDF]\\xa0-\\n[Catalog]\\nConcept relations\\nbroader: [Carnic Alps]\\nrelated: Kellerwand Limestone\\n', metadata={'source': 'http://resource.geolba.ac.at/GeologicUnit/237'}),\n",
       "    Document(page_content='\\nDobranberg Formation  (en)\\nDobranberg-Formation  (de) / GBA Status:\\nofficial use\\nDie Dobranberg-Formation bildet den obersten Abschnitt der eozänen Guttaring-Gruppe und setzt sich aus sehr fossilreichen Plattformkalken zusammen. Von der Sittenberg-Fm. im Liegenden kann sie durch den reduzierten klastischen Eintrag unterschieden werden. Alter: mittleres - spätes Lutet (Piller et al., 2004). Environment: Karbonatplattform. Hauptlithologie: Fossilreiche Kalke, Fossilschuttkalke. (Van Hinte, 1963; Wilkens, 1991; Hillebrandt, 1993; Krainer, 2003)\\n[PDF]\\xa0-\\n[Catalog]\\nConcept relations\\nbroader: [Central Alps]\\n', metadata={'source': 'http://resource.geolba.ac.at/GeologicUnit/485'}),\n",
       "    Document(page_content='\\nSava-Celje-Störungssystem  (de) / Sava-Celje Fault System  (en)\\nGBA Status:\\nofficial use\\nThis ca. 150 km long, approximately E-W, partly ENE-WSW trending Fault System extends from Kranjska Gora (SLO), following the Save (Sava) and Bolska Valleys to Celje, Sentjur and Rogatec. There it is cut and juxtaposed by the Pöls-Lavanttal Fault System. It includes the partly conjugated Sava and Donat Subfault System as well the Sostanj Fault. Proofs of right-lateral movement, in combination with duplexes and positive flower structures from the Eocene to the middle Miocene are observed. Displacement rates of 30 to 40 km are observed. (Fodor et al., 1998 and references therein; Polinski & Eisbacher, 1992; Tomljenović & Csontos,  2001)\\n[Catalog]\\n[Catalog]\\n[Catalog]\\nConcept relations\\nbroader: Periadriatic-Mid-Hungarian Large-scale Fault System\\nnarrower: Sava-Celje Fault\\n', metadata={'source': 'http://resource.geolba.ac.at/structure/165'}),\n",
       "    Document(page_content='\\nGrabenwald-Subformation  (de) / Grabenwald Subformation  (en)\\nKeine Daten in LithstratDB (Piller et al., 2004)\\n[PDF]\\xa0-\\n[Catalog]\\nConcept relations\\nbroader: [HochBajuvaric Nappes]\\n', metadata={'source': 'http://resource.geolba.ac.at/GeologicUnit/553'}),\n",
       "    Document(page_content='\\nMuschelkalk  (de) / Muschelkalk  (en)\\nGroup; 243–235 Ma (DSK  2002).\\n[PDF]\\xa0-\\n[Catalog]\\nConcept relations\\nbroader: Germanic Trias\\nbroadMatch: GeochronologicEraValue/triassic (INSPIRE)\\n', metadata={'source': 'http://resource.geolba.ac.at/GeologicTimeScale/205'}),\n",
       "    Document(page_content=\"\\nOsser Formation  (en)\\nOsser-Formation  (de) / Notation:\\n587\\nValidity: Valid; first entry by Vacek (1891: 'Osserkalk'); formalized by Flügel (2000: p. 25; Osser-Formation).; Chronostratigraphic age: ? Eifelian.; Lithology: Bluish platy tectonically stressed flaser limestones and grey dolostones with local intercalations of marly clay / siltstones and sandstones.; (Piller et al., 2014)\\n[PDF]\\xa0-\\n[Catalog]\\n[PDF]\\n[PDF]\\xa0-\\n[Catalog]\\nConcept relations\\nbroader: [Graz Palaeozoic]\\n\", metadata={'source': 'http://resource.geolba.ac.at/GeologicUnit/747'})])]}"
      ]
     },
     "execution_count": 11,
     "metadata": {},
     "output_type": "execute_result"
    }
   ],
   "source": [
    "result = agent_executor({\"input\": \"tell me about the Skalica Formation\"})\n",
    "result"
   ]
  },
  {
   "cell_type": "code",
   "execution_count": 12,
   "metadata": {},
   "outputs": [
    {
     "name": "stdout",
     "output_type": "stream",
     "text": [
      "\n",
      "\n",
      "\u001b[1m> Entering new AgentExecutor chain...\u001b[0m\n",
      "\u001b[32;1m\u001b[1;3mCertainly! Here is the source link for more information about the Skalica Formation: [Skalica Formation](http://resource.geolba.ac.at/GeologicUnit/853)\u001b[0m\n",
      "\n",
      "\u001b[1m> Finished chain.\u001b[0m\n"
     ]
    },
    {
     "data": {
      "text/plain": [
       "{'input': 'please provide the source link from your last message',\n",
       " 'history': [HumanMessage(content='hi, im bob', additional_kwargs={}, example=False),\n",
       "  AIMessage(content='Hello Bob! How can I assist you today?', additional_kwargs={}, example=False),\n",
       "  HumanMessage(content='whats my name', additional_kwargs={}, example=False),\n",
       "  AIMessage(content='Your name is Bob.', additional_kwargs={}, example=False),\n",
       "  HumanMessage(content='tell me about the Skalica Formation', additional_kwargs={}, example=False),\n",
       "  AIMessage(content='', additional_kwargs={'function_call': {'name': 'search_geologic_data', 'arguments': '{\\n  \"arg1\": \"Skalica Formation\"\\n}'}}, example=False),\n",
       "  FunctionMessage(content='[Document(page_content=\\'\\\\nSkalica-Formation  (de) / Skalica Formation  (en)\\\\nGBA Status:\\\\nofficial use\\\\nDie Skalica-Formation wurde im Wiener Becken hangend der Studienka-Fm bzw. der Holíč-Fm. (sandige mergelige Tone und Silte) und liegend der Záhorie-Fm. abgelagert. Sie verzahnt lateral proximal mit den grobklastischeren Gajary- und Karlova Ves Mb. Alter: Spätes Serravall, Sarmat (Piller et al., 2004). Environment: Offshore marin. Hauptlithologie: Monotone, graugrüne, mergelige Tone mit Zwischenlagen von Sanden und Konglomeraten. (Kováč et al., 2004)\\\\n[PDF]\\\\xa0-\\\\n[Catalog]\\\\n[PDF]\\\\xa0-\\\\n[Catalog]\\\\nConcept relations\\\\nbroader: [Vienna Basin, Eisenstadt Basin]\\\\ncloseMatch: Skalica Formation (DBpedia)\\\\n\\', metadata={\\'source\\': \\'http://resource.geolba.ac.at/GeologicUnit/853\\'}), Document(page_content=\"\\\\nKollerkogel Formation  (en)\\\\nKollerkogel-Formation  (de) / Notation:\\\\n566\\\\nValidity: Valid; first entry by Suess (1868: \\'ungeschichteter, … lichtgrauer Kalkstein, welcher … an den Westhängen des Kollerberges … entblößt ist\\'); formalized by Flügel (2000: p. 25-26; Kollerkogel-Formation).; Chronostratigraphic age: Givetian - Frasnian.; Lithology: Grey dolomites with biolaminations, light bluish limestones (mostly mudstones), locally bioclastic limestones with chert nodules.; (Piller et al., 2014)\\\\n[PDF]\\\\xa0-\\\\n[Catalog]\\\\n[PDF]\\\\n[PDF]\\\\xa0-\\\\n[Catalog]\\\\nConcept relations\\\\nbroader: [Graz Palaeozoic]\\\\n\", metadata={\\'source\\': \\'http://resource.geolba.ac.at/GeologicUnit/651\\'}), Document(page_content=\\'\\\\nKellerwand Formation  (en)\\\\nKellerwand-Formation  (de) / Pal Grande Calcarenite [partim]  (de) / Kellerwand-Kalk [partim]  (de) / Main outcrop areas: The Kellerwand Formation crops out in the Rauchkofel (2,460 m) area, in the south side of the Valentintal and between Mt. Cellon/Creta di Collinetta (2,238 m) and Creta di Timau (2,218 m). Lithology: The Kellerwand Formation (thickness: about 95 m) consists of four well-bedded facies listed in order of decreasing abundance. (Facies A): medium dark gray, thin to medium-bedded, wackestone to packstone with moderate yellow thin laminae of silt; (Facies B): medium dark gray, thin to thick bedded, often fining upward, moderately to well sorted and locally laminated grainstone (from very coarse up to granules to fine-grained) to packstone; (Facies C): medium light gray, medium to thick bedded, moderately to well sorted crinoidal-bearing grainstone (biosparite); Facies D: medium dark gray, thick bedded, poorly sorted coral-bearing rudstone with clasts up to about 10 cm of diameter and poorly sorted very coarse to fine grainstone matrix. Chronostratigraphic age: Devonian: Pragian to Emsian (Kreutzer, 1990, 1992a, b). (Pondrelli et al., 2015a)\\\\n[PDF]\\\\xa0-\\\\n[Catalog]\\\\nConcept relations\\\\nbroader: [Carnic Alps]\\\\nrelated: Kellerwand Limestone\\\\n\\', metadata={\\'source\\': \\'http://resource.geolba.ac.at/GeologicUnit/237\\'}), Document(page_content=\\'\\\\nDobranberg Formation  (en)\\\\nDobranberg-Formation  (de) / GBA Status:\\\\nofficial use\\\\nDie Dobranberg-Formation bildet den obersten Abschnitt der eozänen Guttaring-Gruppe und setzt sich aus sehr fossilreichen Plattformkalken zusammen. Von der Sittenberg-Fm. im Liegenden kann sie durch den reduzierten klastischen Eintrag unterschieden werden. Alter: mittleres - spätes Lutet (Piller et al., 2004). Environment: Karbonatplattform. Hauptlithologie: Fossilreiche Kalke, Fossilschuttkalke. (Van Hinte, 1963; Wilkens, 1991; Hillebrandt, 1993; Krainer, 2003)\\\\n[PDF]\\\\xa0-\\\\n[Catalog]\\\\nConcept relations\\\\nbroader: [Central Alps]\\\\n\\', metadata={\\'source\\': \\'http://resource.geolba.ac.at/GeologicUnit/485\\'}), Document(page_content=\\'\\\\nSava-Celje-Störungssystem  (de) / Sava-Celje Fault System  (en)\\\\nGBA Status:\\\\nofficial use\\\\nThis ca. 150 km long, approximately E-W, partly ENE-WSW trending Fault System extends from Kranjska Gora (SLO), following the Save (Sava) and Bolska Valleys to Celje, Sentjur and Rogatec. There it is cut and juxtaposed by the Pöls-Lavanttal Fault System. It includes the partly conjugated Sava and Donat Subfault System as well the Sostanj Fault. Proofs of right-lateral movement, in combination with duplexes and positive flower structures from the Eocene to the middle Miocene are observed. Displacement rates of 30 to 40 km are observed. (Fodor et al., 1998 and references therein; Polinski & Eisbacher, 1992; Tomljenović & Csontos,  2001)\\\\n[Catalog]\\\\n[Catalog]\\\\n[Catalog]\\\\nConcept relations\\\\nbroader: Periadriatic-Mid-Hungarian Large-scale Fault System\\\\nnarrower: Sava-Celje Fault\\\\n\\', metadata={\\'source\\': \\'http://resource.geolba.ac.at/structure/165\\'}), Document(page_content=\\'\\\\nGrabenwald-Subformation  (de) / Grabenwald Subformation  (en)\\\\nKeine Daten in LithstratDB (Piller et al., 2004)\\\\n[PDF]\\\\xa0-\\\\n[Catalog]\\\\nConcept relations\\\\nbroader: [HochBajuvaric Nappes]\\\\n\\', metadata={\\'source\\': \\'http://resource.geolba.ac.at/GeologicUnit/553\\'}), Document(page_content=\\'\\\\nMuschelkalk  (de) / Muschelkalk  (en)\\\\nGroup; 243–235 Ma (DSK  2002).\\\\n[PDF]\\\\xa0-\\\\n[Catalog]\\\\nConcept relations\\\\nbroader: Germanic Trias\\\\nbroadMatch: GeochronologicEraValue/triassic (INSPIRE)\\\\n\\', metadata={\\'source\\': \\'http://resource.geolba.ac.at/GeologicTimeScale/205\\'}), Document(page_content=\"\\\\nOsser Formation  (en)\\\\nOsser-Formation  (de) / Notation:\\\\n587\\\\nValidity: Valid; first entry by Vacek (1891: \\'Osserkalk\\'); formalized by Flügel (2000: p. 25; Osser-Formation).; Chronostratigraphic age: ? Eifelian.; Lithology: Bluish platy tectonically stressed flaser limestones and grey dolostones with local intercalations of marly clay / siltstones and sandstones.; (Piller et al., 2014)\\\\n[PDF]\\\\xa0-\\\\n[Catalog]\\\\n[PDF]\\\\n[PDF]\\\\xa0-\\\\n[Catalog]\\\\nConcept relations\\\\nbroader: [Graz Palaeozoic]\\\\n\", metadata={\\'source\\': \\'http://resource.geolba.ac.at/GeologicUnit/747\\'})]', additional_kwargs={}, name='search_geologic_data'),\n",
       "  AIMessage(content='The Skalica Formation is a geological formation that was deposited in the Vienna Basin. It is located above the Studienka Formation and the Holíč Formation, and below the Záhorie Formation. The formation is characterized by monotone, gray-green, marly shales with interbeds of sands and conglomerates. It was formed during the Late Serravallian to Sarmatian age. The Skalica Formation is primarily an offshore marine environment. \\n\\nIf you would like more detailed information, I can provide you with the source link for further reading.', additional_kwargs={}, example=False),\n",
       "  HumanMessage(content='please provide the source link from your last message', additional_kwargs={}, example=False),\n",
       "  AIMessage(content='Certainly! Here is the source link for more information about the Skalica Formation: [Skalica Formation](http://resource.geolba.ac.at/GeologicUnit/853)', additional_kwargs={}, example=False)],\n",
       " 'output': 'Certainly! Here is the source link for more information about the Skalica Formation: [Skalica Formation](http://resource.geolba.ac.at/GeologicUnit/853)',\n",
       " 'intermediate_steps': []}"
      ]
     },
     "execution_count": 12,
     "metadata": {},
     "output_type": "execute_result"
    }
   ],
   "source": [
    "result = agent_executor({\"input\": \"please provide the source link from your last message\"})\n",
    "result"
   ]
  },
  {
   "cell_type": "code",
   "execution_count": 9,
   "metadata": {},
   "outputs": [],
   "source": [
    "from langchain.schema.messages import HumanMessage, AIMessage, FunctionMessage\n",
    "d = {'input': 'tell me about the Skalica Formation. Make sure to include the link to the resource,', 'history': [HumanMessage(content='my name is bob', additional_kwargs={}, example=False), AIMessage(content='Hello Bob! How can I assist you today?', additional_kwargs={}, example=False), HumanMessage(content='what is my name?', additional_kwargs={}, example=False), AIMessage(content='Your name is Bob.', additional_kwargs={}, example=False), HumanMessage(content='tell me about the Skalica Formation', additional_kwargs={}, example=False), AIMessage(content='', additional_kwargs={'function_call': {'name': 'search_geologic_data', 'arguments': '{\\n  \"arg1\": \"Skalica Formation\"\\n}'}}, example=False), FunctionMessage(content='[Document(page_content=\\'\\\\nSkalica-Formation  (de) / Skalica Formation  (en)\\\\nGBA Status:\\\\nofficial use\\\\nDie Skalica-Formation wurde im Wiener Becken hangend der Studienka-Fm bzw. der Holíč-Fm. (sandige mergelige Tone und Silte) und liegend der Záhorie-Fm. abgelagert. Sie verzahnt lateral proximal mit den grobklastischeren Gajary- und Karlova Ves Mb. Alter: Spätes Serravall, Sarmat (Piller et al., 2004). Environment: Offshore marin. Hauptlithologie: Monotone, graugrüne, mergelige Tone mit Zwischenlagen von Sanden und Konglomeraten. (Kováč et al., 2004)\\\\n[PDF]\\\\xa0-\\\\n[Catalog]\\\\n[PDF]\\\\xa0-\\\\n[Catalog]\\\\nConcept relations\\\\nbroader: [Vienna Basin, Eisenstadt Basin]\\\\ncloseMatch: Skalica Formation (DBpedia)\\\\n\\', metadata={\\'source\\': \\'http://resource.geolba.ac.at/GeologicUnit/853\\'}), Document(page_content=\"\\\\nKollerkogel Formation  (en)\\\\nKollerkogel-Formation  (de) / Notation:\\\\n566\\\\nValidity: Valid; first entry by Suess (1868: \\'ungeschichteter, … lichtgrauer Kalkstein, welcher … an den Westhängen des Kollerberges … entblößt ist\\'); formalized by Flügel (2000: p. 25-26; Kollerkogel-Formation).; Chronostratigraphic age: Givetian - Frasnian.; Lithology: Grey dolomites with biolaminations, light bluish limestones (mostly mudstones), locally bioclastic limestones with chert nodules.; (Piller et al., 2014)\\\\n[PDF]\\\\xa0-\\\\n[Catalog]\\\\n[PDF]\\\\n[PDF]\\\\xa0-\\\\n[Catalog]\\\\nConcept relations\\\\nbroader: [Graz Palaeozoic]\\\\n\", metadata={\\'source\\': \\'http://resource.geolba.ac.at/GeologicUnit/651\\'}), Document(page_content=\\'\\\\nKellerwand Formation  (en)\\\\nKellerwand-Formation  (de) / Pal Grande Calcarenite [partim]  (de) / Kellerwand-Kalk [partim]  (de) / Main outcrop areas: The Kellerwand Formation crops out in the Rauchkofel (2,460 m) area, in the south side of the Valentintal and between Mt. Cellon/Creta di Collinetta (2,238 m) and Creta di Timau (2,218 m). Lithology: The Kellerwand Formation (thickness: about 95 m) consists of four well-bedded facies listed in order of decreasing abundance. (Facies A): medium dark gray, thin to medium-bedded, wackestone to packstone with moderate yellow thin laminae of silt; (Facies B): medium dark gray, thin to thick bedded, often fining upward, moderately to well sorted and locally laminated grainstone (from very coarse up to granules to fine-grained) to packstone; (Facies C): medium light gray, medium to thick bedded, moderately to well sorted crinoidal-bearing grainstone (biosparite); Facies D: medium dark gray, thick bedded, poorly sorted coral-bearing rudstone with clasts up to about 10 cm of diameter and poorly sorted very coarse to fine grainstone matrix. Chronostratigraphic age: Devonian: Pragian to Emsian (Kreutzer, 1990, 1992a, b). (Pondrelli et al., 2015a)\\\\n[PDF]\\\\xa0-\\\\n[Catalog]\\\\nConcept relations\\\\nbroader: [Carnic Alps]\\\\nrelated: Kellerwand Limestone\\\\n\\', metadata={\\'source\\': \\'http://resource.geolba.ac.at/GeologicUnit/237\\'}), Document(page_content=\\'\\\\nDobranberg Formation  (en)\\\\nDobranberg-Formation  (de) / GBA Status:\\\\nofficial use\\\\nDie Dobranberg-Formation bildet den obersten Abschnitt der eozänen Guttaring-Gruppe und setzt sich aus sehr fossilreichen Plattformkalken zusammen. Von der Sittenberg-Fm. im Liegenden kann sie durch den reduzierten klastischen Eintrag unterschieden werden. Alter: mittleres - spätes Lutet (Piller et al., 2004). Environment: Karbonatplattform. Hauptlithologie: Fossilreiche Kalke, Fossilschuttkalke. (Van Hinte, 1963; Wilkens, 1991; Hillebrandt, 1993; Krainer, 2003)\\\\n[PDF]\\\\xa0-\\\\n[Catalog]\\\\nConcept relations\\\\nbroader: [Central Alps]\\\\n\\', metadata={\\'source\\': \\'http://resource.geolba.ac.at/GeologicUnit/485\\'})]', additional_kwargs={}, name='search_geologic_data'), AIMessage(content='The Skalica Formation is a geological formation that was deposited in the Vienna Basin. It is located above the Studienka Formation and the Holíč Formation, and below the Záhorie Formation. The formation is characterized by monotone, gray-green, marly clays with interbeds of sands and conglomerates. It was formed during the Late Serravallian to Sarmatian age and represents an offshore marine environment. The Skalica Formation is part of the broader Vienna Basin and Eisenstadt Basin.', additional_kwargs={}, example=False), HumanMessage(content='please provide the source link from your last message', additional_kwargs={}, example=False), AIMessage(content='Certainly! Here is the source link for the information about the Skalica Formation: [Skalica Formation Source](http://resource.geolba.ac.at/GeologicUnit/853)', additional_kwargs={}, example=False), HumanMessage(content='tell me about the Skalica Formation. Make sure to include the link to the resource,', additional_kwargs={}, example=False), AIMessage(content='The Skalica Formation is a geological formation that was deposited in the Vienna Basin. It is located above the Studienka Formation and the Holíč Formation, and below the Záhorie Formation. The formation is characterized by monotone, gray-green, marly clays with interbeds of sands and conglomerates. It was formed during the Late Serravallian to Sarmatian age and represents an offshore marine environment. The Skalica Formation is part of the broader Vienna Basin and Eisenstadt Basin.\\n\\nYou can find more information about the Skalica Formation [here](http://resource.geolba.ac.at/GeologicUnit/853).', additional_kwargs={}, example=False)], 'output': 'The Skalica Formation is a geological formation that was deposited in the Vienna Basin. It is located above the Studienka Formation and the Holíč Formation, and below the Záhorie Formation. The formation is characterized by monotone, gray-green, marly clays with interbeds of sands and conglomerates. It was formed during the Late Serravallian to Sarmatian age and represents an offshore marine environment. The Skalica Formation is part of the broader Vienna Basin and Eisenstadt Basin.\\n\\nYou can find more information about the Skalica Formation [here](http://resource.geolba.ac.at/GeologicUnit/853).', 'intermediate_steps': []}"
   ]
  },
  {
   "cell_type": "code",
   "execution_count": 20,
   "metadata": {},
   "outputs": [
    {
     "data": {
      "text/plain": [
       "{'input': 'tell me about the Skalica Formation. Make sure to include the link to the resource,',\n",
       " 'history': [HumanMessage(content='my name is bob', additional_kwargs={}, example=False),\n",
       "  AIMessage(content='Hello Bob! How can I assist you today?', additional_kwargs={}, example=False),\n",
       "  HumanMessage(content='what is my name?', additional_kwargs={}, example=False),\n",
       "  AIMessage(content='Your name is Bob.', additional_kwargs={}, example=False),\n",
       "  HumanMessage(content='tell me about the Skalica Formation', additional_kwargs={}, example=False),\n",
       "  AIMessage(content='', additional_kwargs={'function_call': {'name': 'search_geologic_data', 'arguments': '{\\n  \"arg1\": \"Skalica Formation\"\\n}'}}, example=False),\n",
       "  FunctionMessage(content='[Document(page_content=\\'\\\\nSkalica-Formation  (de) / Skalica Formation  (en)\\\\nGBA Status:\\\\nofficial use\\\\nDie Skalica-Formation wurde im Wiener Becken hangend der Studienka-Fm bzw. der Holíč-Fm. (sandige mergelige Tone und Silte) und liegend der Záhorie-Fm. abgelagert. Sie verzahnt lateral proximal mit den grobklastischeren Gajary- und Karlova Ves Mb. Alter: Spätes Serravall, Sarmat (Piller et al., 2004). Environment: Offshore marin. Hauptlithologie: Monotone, graugrüne, mergelige Tone mit Zwischenlagen von Sanden und Konglomeraten. (Kováč et al., 2004)\\\\n[PDF]\\\\xa0-\\\\n[Catalog]\\\\n[PDF]\\\\xa0-\\\\n[Catalog]\\\\nConcept relations\\\\nbroader: [Vienna Basin, Eisenstadt Basin]\\\\ncloseMatch: Skalica Formation (DBpedia)\\\\n\\', metadata={\\'source\\': \\'http://resource.geolba.ac.at/GeologicUnit/853\\'}), Document(page_content=\"\\\\nKollerkogel Formation  (en)\\\\nKollerkogel-Formation  (de) / Notation:\\\\n566\\\\nValidity: Valid; first entry by Suess (1868: \\'ungeschichteter, … lichtgrauer Kalkstein, welcher … an den Westhängen des Kollerberges … entblößt ist\\'); formalized by Flügel (2000: p. 25-26; Kollerkogel-Formation).; Chronostratigraphic age: Givetian - Frasnian.; Lithology: Grey dolomites with biolaminations, light bluish limestones (mostly mudstones), locally bioclastic limestones with chert nodules.; (Piller et al., 2014)\\\\n[PDF]\\\\xa0-\\\\n[Catalog]\\\\n[PDF]\\\\n[PDF]\\\\xa0-\\\\n[Catalog]\\\\nConcept relations\\\\nbroader: [Graz Palaeozoic]\\\\n\", metadata={\\'source\\': \\'http://resource.geolba.ac.at/GeologicUnit/651\\'}), Document(page_content=\\'\\\\nKellerwand Formation  (en)\\\\nKellerwand-Formation  (de) / Pal Grande Calcarenite [partim]  (de) / Kellerwand-Kalk [partim]  (de) / Main outcrop areas: The Kellerwand Formation crops out in the Rauchkofel (2,460 m) area, in the south side of the Valentintal and between Mt. Cellon/Creta di Collinetta (2,238 m) and Creta di Timau (2,218 m). Lithology: The Kellerwand Formation (thickness: about 95 m) consists of four well-bedded facies listed in order of decreasing abundance. (Facies A): medium dark gray, thin to medium-bedded, wackestone to packstone with moderate yellow thin laminae of silt; (Facies B): medium dark gray, thin to thick bedded, often fining upward, moderately to well sorted and locally laminated grainstone (from very coarse up to granules to fine-grained) to packstone; (Facies C): medium light gray, medium to thick bedded, moderately to well sorted crinoidal-bearing grainstone (biosparite); Facies D: medium dark gray, thick bedded, poorly sorted coral-bearing rudstone with clasts up to about 10 cm of diameter and poorly sorted very coarse to fine grainstone matrix. Chronostratigraphic age: Devonian: Pragian to Emsian (Kreutzer, 1990, 1992a, b). (Pondrelli et al., 2015a)\\\\n[PDF]\\\\xa0-\\\\n[Catalog]\\\\nConcept relations\\\\nbroader: [Carnic Alps]\\\\nrelated: Kellerwand Limestone\\\\n\\', metadata={\\'source\\': \\'http://resource.geolba.ac.at/GeologicUnit/237\\'}), Document(page_content=\\'\\\\nDobranberg Formation  (en)\\\\nDobranberg-Formation  (de) / GBA Status:\\\\nofficial use\\\\nDie Dobranberg-Formation bildet den obersten Abschnitt der eozänen Guttaring-Gruppe und setzt sich aus sehr fossilreichen Plattformkalken zusammen. Von der Sittenberg-Fm. im Liegenden kann sie durch den reduzierten klastischen Eintrag unterschieden werden. Alter: mittleres - spätes Lutet (Piller et al., 2004). Environment: Karbonatplattform. Hauptlithologie: Fossilreiche Kalke, Fossilschuttkalke. (Van Hinte, 1963; Wilkens, 1991; Hillebrandt, 1993; Krainer, 2003)\\\\n[PDF]\\\\xa0-\\\\n[Catalog]\\\\nConcept relations\\\\nbroader: [Central Alps]\\\\n\\', metadata={\\'source\\': \\'http://resource.geolba.ac.at/GeologicUnit/485\\'})]', additional_kwargs={}, name='search_geologic_data'),\n",
       "  AIMessage(content='The Skalica Formation is a geological formation that was deposited in the Vienna Basin. It is located above the Studienka Formation and the Holíč Formation, and below the Záhorie Formation. The formation is characterized by monotone, gray-green, marly clays with interbeds of sands and conglomerates. It was formed during the Late Serravallian to Sarmatian age and represents an offshore marine environment. The Skalica Formation is part of the broader Vienna Basin and Eisenstadt Basin.', additional_kwargs={}, example=False),\n",
       "  HumanMessage(content='please provide the source link from your last message', additional_kwargs={}, example=False),\n",
       "  AIMessage(content='Certainly! Here is the source link for the information about the Skalica Formation: [Skalica Formation Source](http://resource.geolba.ac.at/GeologicUnit/853)', additional_kwargs={}, example=False),\n",
       "  HumanMessage(content='tell me about the Skalica Formation. Make sure to include the link to the resource,', additional_kwargs={}, example=False),\n",
       "  AIMessage(content='The Skalica Formation is a geological formation that was deposited in the Vienna Basin. It is located above the Studienka Formation and the Holíč Formation, and below the Záhorie Formation. The formation is characterized by monotone, gray-green, marly clays with interbeds of sands and conglomerates. It was formed during the Late Serravallian to Sarmatian age and represents an offshore marine environment. The Skalica Formation is part of the broader Vienna Basin and Eisenstadt Basin.\\n\\nYou can find more information about the Skalica Formation [here](http://resource.geolba.ac.at/GeologicUnit/853).', additional_kwargs={}, example=False)],\n",
       " 'output': 'The Skalica Formation is a geological formation that was deposited in the Vienna Basin. It is located above the Studienka Formation and the Holíč Formation, and below the Záhorie Formation. The formation is characterized by monotone, gray-green, marly clays with interbeds of sands and conglomerates. It was formed during the Late Serravallian to Sarmatian age and represents an offshore marine environment. The Skalica Formation is part of the broader Vienna Basin and Eisenstadt Basin.\\n\\nYou can find more information about the Skalica Formation [here](http://resource.geolba.ac.at/GeologicUnit/853).',\n",
       " 'intermediate_steps': []}"
      ]
     },
     "execution_count": 20,
     "metadata": {},
     "output_type": "execute_result"
    }
   ],
   "source": [
    "d"
   ]
  }
 ],
 "metadata": {
  "kernelspec": {
   "display_name": "venv",
   "language": "python",
   "name": "python3"
  },
  "language_info": {
   "codemirror_mode": {
    "name": "ipython",
    "version": 3
   },
   "file_extension": ".py",
   "mimetype": "text/x-python",
   "name": "python",
   "nbconvert_exporter": "python",
   "pygments_lexer": "ipython3",
   "version": "3.10.0"
  },
  "orig_nbformat": 4
 },
 "nbformat": 4,
 "nbformat_minor": 2
}
